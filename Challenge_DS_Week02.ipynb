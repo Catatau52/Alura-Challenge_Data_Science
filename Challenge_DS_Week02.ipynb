{
  "nbformat": 4,
  "nbformat_minor": 0,
  "metadata": {
    "colab": {
      "provenance": [],
      "collapsed_sections": [
        "wMB8MR5Yo8AA",
        "9pbazl-qrTFU",
        "hA2B908e2w-S",
        "yv4faG4I30nU",
        "P5q7mXxC5Ow8",
        "YjSjuz1cEtfm",
        "h1QfqlogJAeQ",
        "TwZnwUMvAueG",
        "mzCGOkXMXmF8",
        "58lSlGB5YZ4f"
      ],
      "authorship_tag": "ABX9TyOQjimCaryUKmtdYi3ja8ql",
      "include_colab_link": true
    },
    "kernelspec": {
      "name": "python3",
      "display_name": "Python 3"
    },
    "language_info": {
      "name": "python"
    }
  },
  "cells": [
    {
      "cell_type": "markdown",
      "metadata": {
        "id": "view-in-github",
        "colab_type": "text"
      },
      "source": [
        "<a href=\"https://colab.research.google.com/github/Catatau52/Challenge_Data-Science/blob/main/Challenge_DS_Week02.ipynb\" target=\"_parent\"><img src=\"https://colab.research.google.com/assets/colab-badge.svg\" alt=\"Open In Colab\"/></a>"
      ]
    },
    {
      "cell_type": "markdown",
      "source": [
        "#Criando Sessão do Spark"
      ],
      "metadata": {
        "id": "wMB8MR5Yo8AA"
      }
    },
    {
      "cell_type": "code",
      "execution_count": 4,
      "metadata": {
        "colab": {
          "base_uri": "https://localhost:8080/"
        },
        "id": "65l4wev24tti",
        "outputId": "70350ae6-cfb0-4d38-a719-39dae756e56b"
      },
      "outputs": [
        {
          "output_type": "stream",
          "name": "stdout",
          "text": [
            "Looking in indexes: https://pypi.org/simple, https://us-python.pkg.dev/colab-wheels/public/simple/\n",
            "Requirement already satisfied: pyspark in /usr/local/lib/python3.8/dist-packages (3.3.1)\n",
            "Requirement already satisfied: py4j==0.10.9.5 in /usr/local/lib/python3.8/dist-packages (from pyspark) (0.10.9.5)\n"
          ]
        }
      ],
      "source": [
        "!pip install pyspark"
      ]
    },
    {
      "cell_type": "code",
      "source": [
        "from pyspark.sql import SparkSession\n",
        "\n",
        "spark = SparkSession.builder \\\n",
        "    .master('local[*]') \\\n",
        "    .appName(\"Regressão com Spark\") \\\n",
        "    .getOrCreate()\n",
        "\n",
        "spark"
      ],
      "metadata": {
        "colab": {
          "base_uri": "https://localhost:8080/",
          "height": 0
        },
        "id": "Us0VQ80F5nSs",
        "outputId": "794b5f3f-336b-432f-8cec-fcf06ec1b5ca"
      },
      "execution_count": 5,
      "outputs": [
        {
          "output_type": "execute_result",
          "data": {
            "text/plain": [
              "<pyspark.sql.session.SparkSession at 0x7f8ae93fa3d0>"
            ],
            "text/html": [
              "\n",
              "            <div>\n",
              "                <p><b>SparkSession - in-memory</b></p>\n",
              "                \n",
              "        <div>\n",
              "            <p><b>SparkContext</b></p>\n",
              "\n",
              "            <p><a href=\"http://c23421c5a5cd:4040\">Spark UI</a></p>\n",
              "\n",
              "            <dl>\n",
              "              <dt>Version</dt>\n",
              "                <dd><code>v3.3.1</code></dd>\n",
              "              <dt>Master</dt>\n",
              "                <dd><code>local[*]</code></dd>\n",
              "              <dt>AppName</dt>\n",
              "                <dd><code>Regressão com Spark</code></dd>\n",
              "            </dl>\n",
              "        </div>\n",
              "        \n",
              "            </div>\n",
              "        "
            ]
          },
          "metadata": {},
          "execution_count": 5
        }
      ]
    },
    {
      "cell_type": "markdown",
      "source": [
        "#Montando o Drive e carregando dados"
      ],
      "metadata": {
        "id": "CZzDYS9vpGuN"
      }
    },
    {
      "cell_type": "code",
      "source": [
        "from google.colab import drive\n",
        "drive.mount('/content/drive')"
      ],
      "metadata": {
        "colab": {
          "base_uri": "https://localhost:8080/"
        },
        "id": "T9suk2Ab5qh4",
        "outputId": "0fb99f0c-d65f-4525-b17a-9d6060081135"
      },
      "execution_count": 6,
      "outputs": [
        {
          "output_type": "stream",
          "name": "stdout",
          "text": [
            "Mounted at /content/drive\n"
          ]
        }
      ]
    },
    {
      "cell_type": "code",
      "source": [
        "import zipfile"
      ],
      "metadata": {
        "id": "mQSACzS_6MBN"
      },
      "execution_count": 7,
      "outputs": []
    },
    {
      "cell_type": "code",
      "source": [
        "zipfile.ZipFile('/content/drive/MyDrive/curso-spark/Challenge-DS/semana-2.zip', 'r').extractall('/content/drive/MyDrive/curso-spark/Challenge-DS')"
      ],
      "metadata": {
        "id": "O1xxWw-66NEC"
      },
      "execution_count": 8,
      "outputs": []
    },
    {
      "cell_type": "code",
      "source": [
        "dados = spark.read.parquet(\n",
        "    '/content/drive/MyDrive/curso-spark/Challenge-DS/dataset_transformado_parquet'\n",
        ")"
      ],
      "metadata": {
        "id": "6Kb8GM-N6jO0"
      },
      "execution_count": 9,
      "outputs": []
    },
    {
      "cell_type": "markdown",
      "source": [
        "#Explorando Dados"
      ],
      "metadata": {
        "id": "9pbazl-qrTFU"
      }
    },
    {
      "cell_type": "code",
      "source": [
        "dados.show(truncate=False)"
      ],
      "metadata": {
        "colab": {
          "base_uri": "https://localhost:8080/"
        },
        "id": "WDXyOtywrVm8",
        "outputId": "de899e65-c442-4451-82b3-d0678bfbd13b"
      },
      "execution_count": 10,
      "outputs": [
        {
          "output_type": "stream",
          "name": "stdout",
          "text": [
            "+------------------------------------+-----+----------+---------+---------+-----------------------------------------------------------------------------------------------------------------------------------------+-------+------+------------+------------+-----------+----+-----------------------+------------+----------+----+-----+------+\n",
            "|id                                  |andar|area_total|area_util|banheiros|caracteristicas                                                                                                                          |quartos|suites|tipo_anuncio|tipo_unidade|tipo_uso   |vaga|bairro                 |zona        |condominio|iptu|tipo |valor |\n",
            "+------------------------------------+-----+----------+---------+---------+-----------------------------------------------------------------------------------------------------------------------------------------+-------+------+------------+------------+-----------+----+-----------------------+------------+----------+----+-----+------+\n",
            "|03a386b6-7ab8-4eff-891d-f8a16efc1989|0    |43        |43       |1        |[Churrasqueira, Academia, Playground, Salão de festas, Condomínio fechado, Portão eletrônico, Portaria 24h, Animais permitidos]          |2      |null  |Usado       |Apartamento |Residencial|1   |Realengo               |Zona Oeste  |285       |null|Venda|22999 |\n",
            "|1fe78d41-b8e0-4d21-a1a8-72cb7863f441|0    |44        |44       |1        |[]                                                                                                                                       |2      |0     |Usado       |Apartamento |Residencial|0   |Irajá                  |Zona Norte  |170       |0   |Venda|110000|\n",
            "|1fa1c1e5-e98c-433f-9675-1b43d7d6da01|4    |null      |55       |1        |[]                                                                                                                                       |2      |0     |Usado       |Apartamento |Residencial|1   |Cosmos                 |Zona Oeste  |null      |null|Venda|115000|\n",
            "|a6ab01ae-3d40-40e7-bb6a-f2334e0abbe0|2    |null      |55       |1        |[]                                                                                                                                       |2      |0     |Usado       |Apartamento |Residencial|0   |Tomás Coelho           |Zona Norte  |null      |null|Venda|115000|\n",
            "|1d8ff7a2-16bd-4e3f-a92e-1b85f923ebb0|0    |null      |50       |1        |[]                                                                                                                                       |1      |null  |Usado       |Apartamento |Residencial|0   |Centro                 |Zona Central|1300      |2679|Venda|125000|\n",
            "|40a2cbde-946b-42da-b7f2-b80057c7a47f|2    |47        |47       |1        |[Condomínio fechado, Portaria 24h, Salão de festas, Churrasqueira, Piscina, Animais permitidos]                                          |2      |0     |Usado       |Apartamento |Residencial|1   |Campo Grande           |Zona Oeste  |380       |null|Venda|138000|\n",
            "|be269ddf-a4a3-4a72-bd54-93cdccf512dd|0    |17089     |45       |1        |[Churrasqueira, Condomínio fechado, Piscina]                                                                                             |2      |0     |Usado       |Apartamento |Residencial|1   |Campo Grande           |Zona Oeste  |356       |0   |Venda|140000|\n",
            "|4b7e3d59-34fd-4bac-9232-1015cb3b3a24|3    |48        |48       |1        |[Churrasqueira, Piscina, Playground, Salão de festas, Condomínio fechado, Portão eletrônico, Portaria 24h, Animais permitidos]           |2      |null  |Usado       |Apartamento |Residencial|1   |Campo Grande           |Zona Oeste  |0         |0   |Venda|150000|\n",
            "|a1a0c2ac-4fa8-4b02-a087-f9d76b6bccb7|9    |null      |55       |1        |[Churrasqueira, Elevador, Salão de festas, Condomínio fechado, Portão eletrônico, Portaria 24h, Animais permitidos]                      |2      |null  |Usado       |Apartamento |Residencial|1   |Freguesia (Jacarepaguá)|Zona Oeste  |780       |660 |Venda|160000|\n",
            "|390d2b88-e06d-47e5-ba7f-a680130ac5f0|0    |70        |70       |2        |[Salão de festas]                                                                                                                        |2      |0     |Usado       |Apartamento |Residencial|1   |Praça Seca             |Zona Oeste  |420000    |null|Venda|159000|\n",
            "|07bb07c1-21cc-4daa-99c4-e12b53da67d2|2    |50        |48       |1        |[Condomínio fechado, Animais permitidos]                                                                                                 |1      |0     |Usado       |Apartamento |Residencial|0   |Piedade                |Zona Norte  |10        |10  |Venda|170000|\n",
            "|7d3a1bae-988c-44b9-8e42-99267dda4245|5    |40        |40       |1        |[Playground, Churrasqueira, Salão de festas, Condomínio fechado, Portão eletrônico, Portaria 24h, Animais permitidos]                    |2      |0     |Usado       |Apartamento |Residencial|1   |Braz de Pina           |Zona Norte  |150       |120 |Venda|189000|\n",
            "|47af17f0-1c81-474c-b7ec-fefbe48954d0|0    |65        |65       |1        |[]                                                                                                                                       |2      |0     |Usado       |Apartamento |Residencial|1   |Campinho               |Zona Oeste  |432       |null|Venda|185000|\n",
            "|a9bd1575-e9f2-43d7-850c-c8d1385e6908|2    |50        |50       |1        |[Condomínio fechado, Portão eletrônico, Animais permitidos]                                                                              |1      |0     |Usado       |Apartamento |Residencial|1   |Madureira              |Zona Norte  |650       |1   |Venda|185000|\n",
            "|cfca7253-3d02-4cdc-99de-714ad1b4cc61|5    |45        |45       |1        |[Academia, Churrasqueira, Condomínio fechado, Elevador, Playground, Portão eletrônico, Portaria 24h, Salão de festas, Animais permitidos]|2      |1     |Usado       |Apartamento |Residencial|0   |Taquara                |Zona Oeste  |150       |40  |Venda|199000|\n",
            "|b571ae97-e3d8-4fbf-80b9-2c2c78fb02c1|0    |48        |48       |1        |[Academia, Condomínio fechado, Elevador, Portaria 24h, Salão de festas, Churrasqueira, Portão eletrônico, Animais permitidos]            |2      |null  |Usado       |Apartamento |Residencial|0   |Bonsucesso             |Zona Norte  |0         |0   |Venda|205933|\n",
            "|eb5fdc65-acae-45f8-9075-b5238b19bd9e|0    |44        |44       |1        |[Academia, Condomínio fechado, Elevador, Portaria 24h, Salão de festas, Playground, Portão eletrônico, Animais permitidos]               |2      |null  |Usado       |Apartamento |Residencial|0   |Bonsucesso             |Zona Norte  |0         |0   |Venda|206000|\n",
            "|77cd0388-e3ff-40c3-928c-f4d535049bff|2    |64        |64       |1        |[]                                                                                                                                       |2      |0     |Usado       |Apartamento |Residencial|0   |Jardim América         |Zona Norte  |0         |0   |Venda|220000|\n",
            "|74a91f07-7387-4a8e-bfbe-c8aec0bf645f|0    |55        |55       |2        |[Salão de festas, Elevador]                                                                                                              |1      |0     |Usado       |Apartamento |Residencial|1   |Engenho Novo           |Zona Norte  |600       |652 |Venda|219130|\n",
            "|6aab1165-508d-4554-b122-b61c178109de|3    |60        |60       |1        |[Animais permitidos]                                                                                                                     |3      |0     |Usado       |Apartamento |Residencial|1   |Cascadura              |Zona Norte  |98        |1   |Venda|230000|\n",
            "+------------------------------------+-----+----------+---------+---------+-----------------------------------------------------------------------------------------------------------------------------------------+-------+------+------------+------------+-----------+----+-----------------------+------------+----------+----+-----+------+\n",
            "only showing top 20 rows\n",
            "\n"
          ]
        }
      ]
    },
    {
      "cell_type": "code",
      "source": [
        "dados.printSchema()"
      ],
      "metadata": {
        "colab": {
          "base_uri": "https://localhost:8080/"
        },
        "id": "0qwAXjvO2uhz",
        "outputId": "79d88dce-3350-40a5-a012-8bd4b556eed8"
      },
      "execution_count": 11,
      "outputs": [
        {
          "output_type": "stream",
          "name": "stdout",
          "text": [
            "root\n",
            " |-- id: string (nullable = true)\n",
            " |-- andar: long (nullable = true)\n",
            " |-- area_total: string (nullable = true)\n",
            " |-- area_util: string (nullable = true)\n",
            " |-- banheiros: long (nullable = true)\n",
            " |-- caracteristicas: array (nullable = true)\n",
            " |    |-- element: string (containsNull = true)\n",
            " |-- quartos: long (nullable = true)\n",
            " |-- suites: long (nullable = true)\n",
            " |-- tipo_anuncio: string (nullable = true)\n",
            " |-- tipo_unidade: string (nullable = true)\n",
            " |-- tipo_uso: string (nullable = true)\n",
            " |-- vaga: long (nullable = true)\n",
            " |-- bairro: string (nullable = true)\n",
            " |-- zona: string (nullable = true)\n",
            " |-- condominio: string (nullable = true)\n",
            " |-- iptu: string (nullable = true)\n",
            " |-- tipo: string (nullable = true)\n",
            " |-- valor: string (nullable = true)\n",
            "\n"
          ]
        }
      ]
    },
    {
      "cell_type": "markdown",
      "source": [
        "#Analisando e Tradandos os dados"
      ],
      "metadata": {
        "id": "hA2B908e2w-S"
      }
    },
    {
      "cell_type": "markdown",
      "source": [
        "Verificando que existem colunas que possui o mesmo valor."
      ],
      "metadata": {
        "id": "h9-4Sy6G2bX3"
      }
    },
    {
      "cell_type": "code",
      "source": [
        "dados.count()"
      ],
      "metadata": {
        "colab": {
          "base_uri": "https://localhost:8080/"
        },
        "id": "ilt2HKcQ0J5S",
        "outputId": "b69e12b1-4436-4f1e-fa4d-89d325048136"
      },
      "execution_count": 12,
      "outputs": [
        {
          "output_type": "execute_result",
          "data": {
            "text/plain": [
              "66562"
            ]
          },
          "metadata": {},
          "execution_count": 12
        }
      ]
    },
    {
      "cell_type": "code",
      "source": [
        "dados.filter(\"tipo == 'Venda'\").count()"
      ],
      "metadata": {
        "colab": {
          "base_uri": "https://localhost:8080/"
        },
        "id": "BgY4Qm9N1bzg",
        "outputId": "6a89757f-eba6-4917-92a3-6964bf70f7b6"
      },
      "execution_count": 13,
      "outputs": [
        {
          "output_type": "execute_result",
          "data": {
            "text/plain": [
              "66562"
            ]
          },
          "metadata": {},
          "execution_count": 13
        }
      ]
    },
    {
      "cell_type": "code",
      "source": [
        "dados = dados.drop('tipo_anuncio', 'tipo_uso','tipo_unidade','tipo')\n",
        "dados.show(5)"
      ],
      "metadata": {
        "colab": {
          "base_uri": "https://localhost:8080/"
        },
        "id": "tCWS9vGO1LRk",
        "outputId": "3789eccb-9d8d-4404-f0ad-61b62fcbe861"
      },
      "execution_count": 14,
      "outputs": [
        {
          "output_type": "stream",
          "name": "stdout",
          "text": [
            "+--------------------+-----+----------+---------+---------+--------------------+-------+------+----+------------+------------+----------+----+------+\n",
            "|                  id|andar|area_total|area_util|banheiros|     caracteristicas|quartos|suites|vaga|      bairro|        zona|condominio|iptu| valor|\n",
            "+--------------------+-----+----------+---------+---------+--------------------+-------+------+----+------------+------------+----------+----+------+\n",
            "|03a386b6-7ab8-4ef...|    0|        43|       43|        1|[Churrasqueira, A...|      2|  null|   1|    Realengo|  Zona Oeste|       285|null| 22999|\n",
            "|1fe78d41-b8e0-4d2...|    0|        44|       44|        1|                  []|      2|     0|   0|       Irajá|  Zona Norte|       170|   0|110000|\n",
            "|1fa1c1e5-e98c-433...|    4|      null|       55|        1|                  []|      2|     0|   1|      Cosmos|  Zona Oeste|      null|null|115000|\n",
            "|a6ab01ae-3d40-40e...|    2|      null|       55|        1|                  []|      2|     0|   0|Tomás Coelho|  Zona Norte|      null|null|115000|\n",
            "|1d8ff7a2-16bd-4e3...|    0|      null|       50|        1|                  []|      1|  null|   0|      Centro|Zona Central|      1300|2679|125000|\n",
            "+--------------------+-----+----------+---------+---------+--------------------+-------+------+----+------------+------------+----------+----+------+\n",
            "only showing top 5 rows\n",
            "\n"
          ]
        }
      ]
    },
    {
      "cell_type": "code",
      "source": [
        "from pyspark.sql import functions as f"
      ],
      "metadata": {
        "id": "QyZ4goAa28-I"
      },
      "execution_count": 15,
      "outputs": []
    },
    {
      "cell_type": "markdown",
      "source": [
        "Contando quantos \"null\" existem em cada coluna"
      ],
      "metadata": {
        "id": "dZMoGfNn3DzV"
      }
    },
    {
      "cell_type": "code",
      "source": [
        "dados\\\n",
        "    .select([f.count(f.when(f.isnull(c), True)).alias(c) for c in dados.columns])\\\n",
        "    .show()"
      ],
      "metadata": {
        "colab": {
          "base_uri": "https://localhost:8080/"
        },
        "id": "bSV7cyWP2WCf",
        "outputId": "f1bbd72c-9dda-4ca7-d308-cad2fdabe8be"
      },
      "execution_count": 16,
      "outputs": [
        {
          "output_type": "stream",
          "name": "stdout",
          "text": [
            "+---+-----+----------+---------+---------+---------------+-------+------+----+------+----+----------+----+-----+\n",
            "| id|andar|area_total|area_util|banheiros|caracteristicas|quartos|suites|vaga|bairro|zona|condominio|iptu|valor|\n",
            "+---+-----+----------+---------+---------+---------------+-------+------+----+------+----+----------+----+-----+\n",
            "|  0|    0|      9194|        0|        0|              0|      0|  5554|3017|     0|   0|      2371|7199|    0|\n",
            "+---+-----+----------+---------+---------+---------------+-------+------+----+------+----+----------+----+-----+\n",
            "\n"
          ]
        }
      ]
    },
    {
      "cell_type": "markdown",
      "source": [
        "Como 'area_total' e 'area_util' tem valores parecidos, porém 'area_total' possui mais valores nulos. iremos excluir."
      ],
      "metadata": {
        "id": "ps3o0XDE3TKR"
      }
    },
    {
      "cell_type": "code",
      "source": [
        "dados = dados.drop('area_total')"
      ],
      "metadata": {
        "id": "QEgbDfqt3jBc"
      },
      "execution_count": 17,
      "outputs": []
    },
    {
      "cell_type": "code",
      "source": [
        "dados.show()"
      ],
      "metadata": {
        "colab": {
          "base_uri": "https://localhost:8080/"
        },
        "id": "Q71jc91s3mcY",
        "outputId": "601f4800-18e0-4842-da91-2d582f24dccf"
      },
      "execution_count": 18,
      "outputs": [
        {
          "output_type": "stream",
          "name": "stdout",
          "text": [
            "+--------------------+-----+---------+---------+--------------------+-------+------+----+--------------------+------------+----------+----+------+\n",
            "|                  id|andar|area_util|banheiros|     caracteristicas|quartos|suites|vaga|              bairro|        zona|condominio|iptu| valor|\n",
            "+--------------------+-----+---------+---------+--------------------+-------+------+----+--------------------+------------+----------+----+------+\n",
            "|03a386b6-7ab8-4ef...|    0|       43|        1|[Churrasqueira, A...|      2|  null|   1|            Realengo|  Zona Oeste|       285|null| 22999|\n",
            "|1fe78d41-b8e0-4d2...|    0|       44|        1|                  []|      2|     0|   0|               Irajá|  Zona Norte|       170|   0|110000|\n",
            "|1fa1c1e5-e98c-433...|    4|       55|        1|                  []|      2|     0|   1|              Cosmos|  Zona Oeste|      null|null|115000|\n",
            "|a6ab01ae-3d40-40e...|    2|       55|        1|                  []|      2|     0|   0|        Tomás Coelho|  Zona Norte|      null|null|115000|\n",
            "|1d8ff7a2-16bd-4e3...|    0|       50|        1|                  []|      1|  null|   0|              Centro|Zona Central|      1300|2679|125000|\n",
            "|40a2cbde-946b-42d...|    2|       47|        1|[Condomínio fecha...|      2|     0|   1|        Campo Grande|  Zona Oeste|       380|null|138000|\n",
            "|be269ddf-a4a3-4a7...|    0|       45|        1|[Churrasqueira, C...|      2|     0|   1|        Campo Grande|  Zona Oeste|       356|   0|140000|\n",
            "|4b7e3d59-34fd-4ba...|    3|       48|        1|[Churrasqueira, P...|      2|  null|   1|        Campo Grande|  Zona Oeste|         0|   0|150000|\n",
            "|a1a0c2ac-4fa8-4b0...|    9|       55|        1|[Churrasqueira, E...|      2|  null|   1|Freguesia (Jacare...|  Zona Oeste|       780| 660|160000|\n",
            "|390d2b88-e06d-47e...|    0|       70|        2|   [Salão de festas]|      2|     0|   1|          Praça Seca|  Zona Oeste|    420000|null|159000|\n",
            "|07bb07c1-21cc-4da...|    2|       48|        1|[Condomínio fecha...|      1|     0|   0|             Piedade|  Zona Norte|        10|  10|170000|\n",
            "|7d3a1bae-988c-44b...|    5|       40|        1|[Playground, Chur...|      2|     0|   1|        Braz de Pina|  Zona Norte|       150| 120|189000|\n",
            "|47af17f0-1c81-474...|    0|       65|        1|                  []|      2|     0|   1|            Campinho|  Zona Oeste|       432|null|185000|\n",
            "|a9bd1575-e9f2-43d...|    2|       50|        1|[Condomínio fecha...|      1|     0|   1|           Madureira|  Zona Norte|       650|   1|185000|\n",
            "|cfca7253-3d02-4cd...|    5|       45|        1|[Academia, Churra...|      2|     1|   0|             Taquara|  Zona Oeste|       150|  40|199000|\n",
            "|b571ae97-e3d8-4fb...|    0|       48|        1|[Academia, Condom...|      2|  null|   0|          Bonsucesso|  Zona Norte|         0|   0|205933|\n",
            "|eb5fdc65-acae-45f...|    0|       44|        1|[Academia, Condom...|      2|  null|   0|          Bonsucesso|  Zona Norte|         0|   0|206000|\n",
            "|77cd0388-e3ff-40c...|    2|       64|        1|                  []|      2|     0|   0|      Jardim América|  Zona Norte|         0|   0|220000|\n",
            "|74a91f07-7387-4a8...|    0|       55|        2|[Salão de festas,...|      1|     0|   1|        Engenho Novo|  Zona Norte|       600| 652|219130|\n",
            "|6aab1165-508d-455...|    3|       60|        1|[Animais permitidos]|      3|     0|   1|           Cascadura|  Zona Norte|        98|   1|230000|\n",
            "+--------------------+-----+---------+---------+--------------------+-------+------+----+--------------------+------------+----------+----+------+\n",
            "only showing top 20 rows\n",
            "\n"
          ]
        }
      ]
    },
    {
      "cell_type": "markdown",
      "source": [
        "#Convertendo dados"
      ],
      "metadata": {
        "id": "yv4faG4I30nU"
      }
    },
    {
      "cell_type": "code",
      "source": [
        "from pyspark.sql.types import IntegerType, DoubleType"
      ],
      "metadata": {
        "id": "ieKpuNs0350U"
      },
      "execution_count": 19,
      "outputs": []
    },
    {
      "cell_type": "code",
      "source": [
        "dados.printSchema()"
      ],
      "metadata": {
        "colab": {
          "base_uri": "https://localhost:8080/"
        },
        "id": "76Mi2faL4CQf",
        "outputId": "84fa4a5e-a5cd-4e5b-bda2-d4c383f36f73"
      },
      "execution_count": 20,
      "outputs": [
        {
          "output_type": "stream",
          "name": "stdout",
          "text": [
            "root\n",
            " |-- id: string (nullable = true)\n",
            " |-- andar: long (nullable = true)\n",
            " |-- area_util: string (nullable = true)\n",
            " |-- banheiros: long (nullable = true)\n",
            " |-- caracteristicas: array (nullable = true)\n",
            " |    |-- element: string (containsNull = true)\n",
            " |-- quartos: long (nullable = true)\n",
            " |-- suites: long (nullable = true)\n",
            " |-- vaga: long (nullable = true)\n",
            " |-- bairro: string (nullable = true)\n",
            " |-- zona: string (nullable = true)\n",
            " |-- condominio: string (nullable = true)\n",
            " |-- iptu: string (nullable = true)\n",
            " |-- valor: string (nullable = true)\n",
            "\n"
          ]
        }
      ]
    },
    {
      "cell_type": "markdown",
      "source": [
        "Podemos converter o tipo de colunas numéricas, como \"andar\", \"banheiros\", \"suites\" e \"quartos\" para o tipo inteiro. Além disso também pode ser necessário converter as colunas \"area_util\", \"condominio\", \"iptu\" e \"valor\" para o tipo double."
      ],
      "metadata": {
        "id": "uyVZ5MUj4IvV"
      }
    },
    {
      "cell_type": "code",
      "source": [
        "dados = dados\\\n",
        "    .withColumn('andar', dados['andar'].cast(IntegerType()))\\\n",
        "    .withColumn('banheiros', dados['banheiros'].cast(IntegerType()))\\\n",
        "    .withColumn('suites', dados['suites'].cast(IntegerType()))\\\n",
        "    .withColumn('quartos', dados['quartos'].cast(IntegerType()))\\\n",
        "    .withColumn('area_util', dados['area_util'].cast(DoubleType()))\\\n",
        "    .withColumn('condominio', dados['condominio'].cast(DoubleType()))\\\n",
        "    .withColumn('iptu', dados['iptu'].cast(DoubleType()))\\\n",
        "    .withColumn('valor', dados['valor'].cast(DoubleType()))\n",
        "dados.printSchema()"
      ],
      "metadata": {
        "colab": {
          "base_uri": "https://localhost:8080/"
        },
        "id": "-4Yt1rXv4Tkz",
        "outputId": "77a5efb4-ffc7-4b89-cddc-029590c74421"
      },
      "execution_count": 21,
      "outputs": [
        {
          "output_type": "stream",
          "name": "stdout",
          "text": [
            "root\n",
            " |-- id: string (nullable = true)\n",
            " |-- andar: integer (nullable = true)\n",
            " |-- area_util: double (nullable = true)\n",
            " |-- banheiros: integer (nullable = true)\n",
            " |-- caracteristicas: array (nullable = true)\n",
            " |    |-- element: string (containsNull = true)\n",
            " |-- quartos: integer (nullable = true)\n",
            " |-- suites: integer (nullable = true)\n",
            " |-- vaga: long (nullable = true)\n",
            " |-- bairro: string (nullable = true)\n",
            " |-- zona: string (nullable = true)\n",
            " |-- condominio: double (nullable = true)\n",
            " |-- iptu: double (nullable = true)\n",
            " |-- valor: double (nullable = true)\n",
            "\n"
          ]
        }
      ]
    },
    {
      "cell_type": "markdown",
      "source": [
        "#Tratando dados faltantes"
      ],
      "metadata": {
        "id": "P5q7mXxC5Ow8"
      }
    },
    {
      "cell_type": "code",
      "source": [
        "from pyspark.sql import functions as f"
      ],
      "metadata": {
        "id": "RrdjTv8U5XG3"
      },
      "execution_count": 22,
      "outputs": []
    },
    {
      "cell_type": "code",
      "source": [
        "dados.show(10)"
      ],
      "metadata": {
        "colab": {
          "base_uri": "https://localhost:8080/"
        },
        "id": "bFrWsXVH5qiA",
        "outputId": "5efb2802-e198-4773-9db8-07e5753cfa30"
      },
      "execution_count": 23,
      "outputs": [
        {
          "output_type": "stream",
          "name": "stdout",
          "text": [
            "+--------------------+-----+---------+---------+--------------------+-------+------+----+--------------------+------------+----------+------+--------+\n",
            "|                  id|andar|area_util|banheiros|     caracteristicas|quartos|suites|vaga|              bairro|        zona|condominio|  iptu|   valor|\n",
            "+--------------------+-----+---------+---------+--------------------+-------+------+----+--------------------+------------+----------+------+--------+\n",
            "|03a386b6-7ab8-4ef...|    0|     43.0|        1|[Churrasqueira, A...|      2|  null|   1|            Realengo|  Zona Oeste|     285.0|  null| 22999.0|\n",
            "|1fe78d41-b8e0-4d2...|    0|     44.0|        1|                  []|      2|     0|   0|               Irajá|  Zona Norte|     170.0|   0.0|110000.0|\n",
            "|1fa1c1e5-e98c-433...|    4|     55.0|        1|                  []|      2|     0|   1|              Cosmos|  Zona Oeste|      null|  null|115000.0|\n",
            "|a6ab01ae-3d40-40e...|    2|     55.0|        1|                  []|      2|     0|   0|        Tomás Coelho|  Zona Norte|      null|  null|115000.0|\n",
            "|1d8ff7a2-16bd-4e3...|    0|     50.0|        1|                  []|      1|  null|   0|              Centro|Zona Central|    1300.0|2679.0|125000.0|\n",
            "|40a2cbde-946b-42d...|    2|     47.0|        1|[Condomínio fecha...|      2|     0|   1|        Campo Grande|  Zona Oeste|     380.0|  null|138000.0|\n",
            "|be269ddf-a4a3-4a7...|    0|     45.0|        1|[Churrasqueira, C...|      2|     0|   1|        Campo Grande|  Zona Oeste|     356.0|   0.0|140000.0|\n",
            "|4b7e3d59-34fd-4ba...|    3|     48.0|        1|[Churrasqueira, P...|      2|  null|   1|        Campo Grande|  Zona Oeste|       0.0|   0.0|150000.0|\n",
            "|a1a0c2ac-4fa8-4b0...|    9|     55.0|        1|[Churrasqueira, E...|      2|  null|   1|Freguesia (Jacare...|  Zona Oeste|     780.0| 660.0|160000.0|\n",
            "|390d2b88-e06d-47e...|    0|     70.0|        2|   [Salão de festas]|      2|     0|   1|          Praça Seca|  Zona Oeste|  420000.0|  null|159000.0|\n",
            "+--------------------+-----+---------+---------+--------------------+-------+------+----+--------------------+------------+----------+------+--------+\n",
            "only showing top 10 rows\n",
            "\n"
          ]
        }
      ]
    },
    {
      "cell_type": "code",
      "source": [
        "#dados.select([f.count(f.when(f.isnull(c),1)).alias(c) for c in dados.columns]).show()\n",
        "dados.select([f.count(f.when(f.isnull(c), True)).alias(c) for c in dados.columns]).show()\n",
        "#dados.select([f.count(f.when(f.isnan(c) | f.isnull(c), True)).alias(c) for c in dados.columns]).show()"
      ],
      "metadata": {
        "colab": {
          "base_uri": "https://localhost:8080/"
        },
        "id": "qF0a2mT86KYp",
        "outputId": "bbb046a8-4c55-43ad-847a-bd9accd1f0ca"
      },
      "execution_count": 24,
      "outputs": [
        {
          "output_type": "stream",
          "name": "stdout",
          "text": [
            "+---+-----+---------+---------+---------------+-------+------+----+------+----+----------+----+-----+\n",
            "| id|andar|area_util|banheiros|caracteristicas|quartos|suites|vaga|bairro|zona|condominio|iptu|valor|\n",
            "+---+-----+---------+---------+---------------+-------+------+----+------+----+----------+----+-----+\n",
            "|  0|    0|        0|        0|              0|      0|  5554|3017|     0|   0|      2371|7199|    0|\n",
            "+---+-----+---------+---------+---------------+-------+------+----+------+----+----------+----+-----+\n",
            "\n"
          ]
        }
      ]
    },
    {
      "cell_type": "code",
      "source": [
        "#dados.select('*').na.fill(0).show(5,truncate=False)\n",
        "dados = dados.na.fill(value=0,subset=['suites','vaga','condominio','iptu'])"
      ],
      "metadata": {
        "id": "QrKIH5K8-gG0"
      },
      "execution_count": 25,
      "outputs": []
    },
    {
      "cell_type": "code",
      "source": [
        "dados.select([f.count(f.when(f.isnull(c), True)).alias(c) for c in dados.columns]).show()"
      ],
      "metadata": {
        "colab": {
          "base_uri": "https://localhost:8080/"
        },
        "id": "O-S731Q5_1AH",
        "outputId": "08719176-76b7-4521-e027-af0e62f4b470"
      },
      "execution_count": 26,
      "outputs": [
        {
          "output_type": "stream",
          "name": "stdout",
          "text": [
            "+---+-----+---------+---------+---------------+-------+------+----+------+----+----------+----+-----+\n",
            "| id|andar|area_util|banheiros|caracteristicas|quartos|suites|vaga|bairro|zona|condominio|iptu|valor|\n",
            "+---+-----+---------+---------+---------------+-------+------+----+------+----+----------+----+-----+\n",
            "|  0|    0|        0|        0|              0|      0|     0|   0|     0|   0|         0|   0|    0|\n",
            "+---+-----+---------+---------+---------------+-------+------+----+------+----+----------+----+-----+\n",
            "\n"
          ]
        }
      ]
    },
    {
      "cell_type": "code",
      "source": [
        "dados.show(10,truncate=False)"
      ],
      "metadata": {
        "colab": {
          "base_uri": "https://localhost:8080/"
        },
        "id": "e4WZR0fsArPv",
        "outputId": "3f20eafc-2160-4770-86e9-072df7e1c486"
      },
      "execution_count": 27,
      "outputs": [
        {
          "output_type": "stream",
          "name": "stdout",
          "text": [
            "+------------------------------------+-----+---------+---------+-------------------------------------------------------------------------------------------------------------------------------+-------+------+----+-----------------------+------------+----------+------+--------+\n",
            "|id                                  |andar|area_util|banheiros|caracteristicas                                                                                                                |quartos|suites|vaga|bairro                 |zona        |condominio|iptu  |valor   |\n",
            "+------------------------------------+-----+---------+---------+-------------------------------------------------------------------------------------------------------------------------------+-------+------+----+-----------------------+------------+----------+------+--------+\n",
            "|03a386b6-7ab8-4eff-891d-f8a16efc1989|0    |43.0     |1        |[Churrasqueira, Academia, Playground, Salão de festas, Condomínio fechado, Portão eletrônico, Portaria 24h, Animais permitidos]|2      |0     |1   |Realengo               |Zona Oeste  |285.0     |0.0   |22999.0 |\n",
            "|1fe78d41-b8e0-4d21-a1a8-72cb7863f441|0    |44.0     |1        |[]                                                                                                                             |2      |0     |0   |Irajá                  |Zona Norte  |170.0     |0.0   |110000.0|\n",
            "|1fa1c1e5-e98c-433f-9675-1b43d7d6da01|4    |55.0     |1        |[]                                                                                                                             |2      |0     |1   |Cosmos                 |Zona Oeste  |0.0       |0.0   |115000.0|\n",
            "|a6ab01ae-3d40-40e7-bb6a-f2334e0abbe0|2    |55.0     |1        |[]                                                                                                                             |2      |0     |0   |Tomás Coelho           |Zona Norte  |0.0       |0.0   |115000.0|\n",
            "|1d8ff7a2-16bd-4e3f-a92e-1b85f923ebb0|0    |50.0     |1        |[]                                                                                                                             |1      |0     |0   |Centro                 |Zona Central|1300.0    |2679.0|125000.0|\n",
            "|40a2cbde-946b-42da-b7f2-b80057c7a47f|2    |47.0     |1        |[Condomínio fechado, Portaria 24h, Salão de festas, Churrasqueira, Piscina, Animais permitidos]                                |2      |0     |1   |Campo Grande           |Zona Oeste  |380.0     |0.0   |138000.0|\n",
            "|be269ddf-a4a3-4a72-bd54-93cdccf512dd|0    |45.0     |1        |[Churrasqueira, Condomínio fechado, Piscina]                                                                                   |2      |0     |1   |Campo Grande           |Zona Oeste  |356.0     |0.0   |140000.0|\n",
            "|4b7e3d59-34fd-4bac-9232-1015cb3b3a24|3    |48.0     |1        |[Churrasqueira, Piscina, Playground, Salão de festas, Condomínio fechado, Portão eletrônico, Portaria 24h, Animais permitidos] |2      |0     |1   |Campo Grande           |Zona Oeste  |0.0       |0.0   |150000.0|\n",
            "|a1a0c2ac-4fa8-4b02-a087-f9d76b6bccb7|9    |55.0     |1        |[Churrasqueira, Elevador, Salão de festas, Condomínio fechado, Portão eletrônico, Portaria 24h, Animais permitidos]            |2      |0     |1   |Freguesia (Jacarepaguá)|Zona Oeste  |780.0     |660.0 |160000.0|\n",
            "|390d2b88-e06d-47e5-ba7f-a680130ac5f0|0    |70.0     |2        |[Salão de festas]                                                                                                              |2      |0     |1   |Praça Seca             |Zona Oeste  |420000.0  |0.0   |159000.0|\n",
            "+------------------------------------+-----+---------+---------+-------------------------------------------------------------------------------------------------------------------------------+-------+------+----+-----------------------+------------+----------+------+--------+\n",
            "only showing top 10 rows\n",
            "\n"
          ]
        }
      ]
    },
    {
      "cell_type": "markdown",
      "source": [
        "As listas vazias de 'caracteristicas' ainda precisam ser tratadas"
      ],
      "metadata": {
        "id": "LdnGdyHtA0-j"
      }
    },
    {
      "cell_type": "markdown",
      "source": [
        "#Tratando a coluna características"
      ],
      "metadata": {
        "id": "YjSjuz1cEtfm"
      }
    },
    {
      "cell_type": "code",
      "source": [
        "from pyspark.sql.functions import explode\n"
      ],
      "metadata": {
        "id": "EQtXsFX9E0ER"
      },
      "execution_count": 28,
      "outputs": []
    },
    {
      "cell_type": "code",
      "source": [
        "dados.select(dados.id,explode(dados.caracteristicas))\\\n",
        "      .select(\"col\")\\\n",
        "      .distinct()\\\n",
        "      .show()"
      ],
      "metadata": {
        "colab": {
          "base_uri": "https://localhost:8080/"
        },
        "id": "9T00D-U2E7i9",
        "outputId": "7db68738-6290-4e13-de68-20f3b90f804d"
      },
      "execution_count": 29,
      "outputs": [
        {
          "output_type": "stream",
          "name": "stdout",
          "text": [
            "+------------------+\n",
            "|               col|\n",
            "+------------------+\n",
            "|Condomínio fechado|\n",
            "|        Playground|\n",
            "| Portão eletrônico|\n",
            "|           Piscina|\n",
            "|Animais permitidos|\n",
            "|      Portaria 24h|\n",
            "|          Elevador|\n",
            "|          Academia|\n",
            "|   Salão de festas|\n",
            "|     Churrasqueira|\n",
            "+------------------+\n",
            "\n"
          ]
        }
      ]
    },
    {
      "cell_type": "code",
      "source": [
        "dados.select(dados.id,explode(dados.caracteristicas)).show(10,truncate=False)"
      ],
      "metadata": {
        "colab": {
          "base_uri": "https://localhost:8080/"
        },
        "id": "R4ReuThaFF3t",
        "outputId": "2dd291f4-0edf-421d-c60f-3e2165a0975e"
      },
      "execution_count": 30,
      "outputs": [
        {
          "output_type": "stream",
          "name": "stdout",
          "text": [
            "+------------------------------------+------------------+\n",
            "|id                                  |col               |\n",
            "+------------------------------------+------------------+\n",
            "|03a386b6-7ab8-4eff-891d-f8a16efc1989|Churrasqueira     |\n",
            "|03a386b6-7ab8-4eff-891d-f8a16efc1989|Academia          |\n",
            "|03a386b6-7ab8-4eff-891d-f8a16efc1989|Playground        |\n",
            "|03a386b6-7ab8-4eff-891d-f8a16efc1989|Salão de festas   |\n",
            "|03a386b6-7ab8-4eff-891d-f8a16efc1989|Condomínio fechado|\n",
            "|03a386b6-7ab8-4eff-891d-f8a16efc1989|Portão eletrônico |\n",
            "|03a386b6-7ab8-4eff-891d-f8a16efc1989|Portaria 24h      |\n",
            "|03a386b6-7ab8-4eff-891d-f8a16efc1989|Animais permitidos|\n",
            "|40a2cbde-946b-42da-b7f2-b80057c7a47f|Condomínio fechado|\n",
            "|40a2cbde-946b-42da-b7f2-b80057c7a47f|Portaria 24h      |\n",
            "+------------------------------------+------------------+\n",
            "only showing top 10 rows\n",
            "\n"
          ]
        }
      ]
    },
    {
      "cell_type": "code",
      "source": [
        "dados_caract = dados.select(dados.id,explode(dados.caracteristicas))"
      ],
      "metadata": {
        "id": "fxvHNqdtGQMh"
      },
      "execution_count": 31,
      "outputs": []
    },
    {
      "cell_type": "markdown",
      "source": [
        "Extraindo variáveis Dummy e agrupando pela variável id"
      ],
      "metadata": {
        "id": "g861tleiGam_"
      }
    },
    {
      "cell_type": "code",
      "source": [
        "dados_caract=dados_caract.groupBy(\"id\")\\\n",
        "        .pivot('col')\\\n",
        "        .agg(f.lit(1))\\\n",
        "        .na\\\n",
        "        .fill(0)\n",
        "dados_caract.show(10,truncate=False)"
      ],
      "metadata": {
        "colab": {
          "base_uri": "https://localhost:8080/"
        },
        "id": "H9Y9eOnWGD3z",
        "outputId": "db6cd165-0b42-455d-d76b-e20acb013113"
      },
      "execution_count": 32,
      "outputs": [
        {
          "output_type": "stream",
          "name": "stdout",
          "text": [
            "+------------------------------------+--------+------------------+-------------+------------------+--------+-------+----------+------------+-----------------+---------------+\n",
            "|id                                  |Academia|Animais permitidos|Churrasqueira|Condomínio fechado|Elevador|Piscina|Playground|Portaria 24h|Portão eletrônico|Salão de festas|\n",
            "+------------------------------------+--------+------------------+-------------+------------------+--------+-------+----------+------------+-----------------+---------------+\n",
            "|fd96bbd5-d631-416a-9f84-29091cefe14c|1       |1                 |1            |1                 |1       |1      |1         |1           |1                |1              |\n",
            "|bfffedfe-99e7-4aed-9a9f-f766225a0f1f|0       |1                 |1            |1                 |1       |0      |1         |0           |1                |1              |\n",
            "|fcb67af3-5601-415f-9d1f-75280923a4e3|1       |1                 |1            |0                 |0       |1      |1         |0           |0                |1              |\n",
            "|afecddff-f4cc-4ab8-bdbf-242b7dff7241|1       |1                 |1            |1                 |1       |1      |1         |1           |1                |1              |\n",
            "|1bbc40f3-4f5c-4595-99b1-56ef42a54ede|1       |0                 |0            |1                 |1       |1      |1         |1           |1                |1              |\n",
            "|fd26aeb2-a7b3-4f80-97ed-fe3eb928c123|1       |1                 |1            |1                 |1       |1      |1         |1           |1                |1              |\n",
            "|10e9d118-dbad-43c3-879d-6def0d60f8ed|0       |1                 |1            |1                 |0       |1      |1         |1           |1                |1              |\n",
            "|ca1e84d7-86c8-4b1e-aa5a-db99c8c9d0d3|1       |0                 |1            |1                 |1       |1      |1         |1           |1                |1              |\n",
            "|d9e139a5-e85d-4e1b-b77f-1b120d146fb3|1       |1                 |1            |1                 |1       |1      |1         |1           |1                |1              |\n",
            "|156a1fa5-37ca-43db-8448-df4a35f45496|1       |0                 |1            |1                 |1       |1      |1         |1           |1                |1              |\n",
            "+------------------------------------+--------+------------------+-------------+------------------+--------+-------+----------+------------+-----------------+---------------+\n",
            "only showing top 10 rows\n",
            "\n"
          ]
        }
      ]
    },
    {
      "cell_type": "markdown",
      "source": [
        "Inserindo as colunas no dataset e excluindo a coluna caracteristicas"
      ],
      "metadata": {
        "id": "EUjTvNj4GwfL"
      }
    },
    {
      "cell_type": "code",
      "source": [
        "dados=dados\\\n",
        "    .join(dados_caract, 'id', how='left').drop('caracteristicas')\n",
        "dados.show(10,truncate=False)"
      ],
      "metadata": {
        "colab": {
          "base_uri": "https://localhost:8080/"
        },
        "id": "NEYIPbXwGvKB",
        "outputId": "35fa6976-55b7-4d45-addc-4f60ec46eeac"
      },
      "execution_count": 33,
      "outputs": [
        {
          "output_type": "stream",
          "name": "stdout",
          "text": [
            "+------------------------------------+-----+---------+---------+-------+------+----+-----------------------+------------+----------+------+--------+--------+------------------+-------------+------------------+--------+-------+----------+------------+-----------------+---------------+\n",
            "|id                                  |andar|area_util|banheiros|quartos|suites|vaga|bairro                 |zona        |condominio|iptu  |valor   |Academia|Animais permitidos|Churrasqueira|Condomínio fechado|Elevador|Piscina|Playground|Portaria 24h|Portão eletrônico|Salão de festas|\n",
            "+------------------------------------+-----+---------+---------+-------+------+----+-----------------------+------------+----------+------+--------+--------+------------------+-------------+------------------+--------+-------+----------+------------+-----------------+---------------+\n",
            "|03a386b6-7ab8-4eff-891d-f8a16efc1989|0    |43.0     |1        |2      |0     |1   |Realengo               |Zona Oeste  |285.0     |0.0   |22999.0 |1       |1                 |1            |1                 |0       |0      |1         |1           |1                |1              |\n",
            "|1fe78d41-b8e0-4d21-a1a8-72cb7863f441|0    |44.0     |1        |2      |0     |0   |Irajá                  |Zona Norte  |170.0     |0.0   |110000.0|null    |null              |null         |null              |null    |null   |null      |null        |null             |null           |\n",
            "|1fa1c1e5-e98c-433f-9675-1b43d7d6da01|4    |55.0     |1        |2      |0     |1   |Cosmos                 |Zona Oeste  |0.0       |0.0   |115000.0|null    |null              |null         |null              |null    |null   |null      |null        |null             |null           |\n",
            "|a6ab01ae-3d40-40e7-bb6a-f2334e0abbe0|2    |55.0     |1        |2      |0     |0   |Tomás Coelho           |Zona Norte  |0.0       |0.0   |115000.0|null    |null              |null         |null              |null    |null   |null      |null        |null             |null           |\n",
            "|1d8ff7a2-16bd-4e3f-a92e-1b85f923ebb0|0    |50.0     |1        |1      |0     |0   |Centro                 |Zona Central|1300.0    |2679.0|125000.0|null    |null              |null         |null              |null    |null   |null      |null        |null             |null           |\n",
            "|40a2cbde-946b-42da-b7f2-b80057c7a47f|2    |47.0     |1        |2      |0     |1   |Campo Grande           |Zona Oeste  |380.0     |0.0   |138000.0|0       |1                 |1            |1                 |0       |1      |0         |1           |0                |1              |\n",
            "|be269ddf-a4a3-4a72-bd54-93cdccf512dd|0    |45.0     |1        |2      |0     |1   |Campo Grande           |Zona Oeste  |356.0     |0.0   |140000.0|0       |0                 |1            |1                 |0       |1      |0         |0           |0                |0              |\n",
            "|4b7e3d59-34fd-4bac-9232-1015cb3b3a24|3    |48.0     |1        |2      |0     |1   |Campo Grande           |Zona Oeste  |0.0       |0.0   |150000.0|0       |1                 |1            |1                 |0       |1      |1         |1           |1                |1              |\n",
            "|a1a0c2ac-4fa8-4b02-a087-f9d76b6bccb7|9    |55.0     |1        |2      |0     |1   |Freguesia (Jacarepaguá)|Zona Oeste  |780.0     |660.0 |160000.0|0       |1                 |1            |1                 |1       |0      |0         |1           |1                |1              |\n",
            "|390d2b88-e06d-47e5-ba7f-a680130ac5f0|0    |70.0     |2        |2      |0     |1   |Praça Seca             |Zona Oeste  |420000.0  |0.0   |159000.0|0       |0                 |0            |0                 |0       |0      |0         |0           |0                |1              |\n",
            "+------------------------------------+-----+---------+---------+-------+------+----+-----------------------+------------+----------+------+--------+--------+------------------+-------------+------------------+--------+-------+----------+------------+-----------------+---------------+\n",
            "only showing top 10 rows\n",
            "\n"
          ]
        }
      ]
    },
    {
      "cell_type": "code",
      "source": [
        "dados\\\n",
        "    .select([f.count(f.when(f.isnan(c) | f.isnull(c), True)).alias(c) for c in dados.columns])\\\n",
        "    .show()"
      ],
      "metadata": {
        "colab": {
          "base_uri": "https://localhost:8080/"
        },
        "id": "AQNd7ig0HBd3",
        "outputId": "aaea4c9c-1315-4057-dfd5-e840186ad112"
      },
      "execution_count": 34,
      "outputs": [
        {
          "output_type": "stream",
          "name": "stdout",
          "text": [
            "+---+-----+---------+---------+-------+------+----+------+----+----------+----+-----+--------+------------------+-------------+------------------+--------+-------+----------+------------+-----------------+---------------+\n",
            "| id|andar|area_util|banheiros|quartos|suites|vaga|bairro|zona|condominio|iptu|valor|Academia|Animais permitidos|Churrasqueira|Condomínio fechado|Elevador|Piscina|Playground|Portaria 24h|Portão eletrônico|Salão de festas|\n",
            "+---+-----+---------+---------+-------+------+----+------+----+----------+----+-----+--------+------------------+-------------+------------------+--------+-------+----------+------------+-----------------+---------------+\n",
            "|  0|    0|        0|        0|      0|     0|   0|     0|   0|         0|   0|    0|   12736|             12736|        12736|             12736|   12736|  12736|     12736|       12736|            12736|          12736|\n",
            "+---+-----+---------+---------+-------+------+----+------+----+----------+----+-----+--------+------------------+-------------+------------------+--------+-------+----------+------------+-----------------+---------------+\n",
            "\n"
          ]
        }
      ]
    },
    {
      "cell_type": "code",
      "source": [
        "dados=dados\\\n",
        "    .select('*')\\\n",
        "    .na\\\n",
        "    .fill(0)"
      ],
      "metadata": {
        "id": "1BsZA9GqHHmN"
      },
      "execution_count": 35,
      "outputs": []
    },
    {
      "cell_type": "code",
      "source": [
        "dados\\\n",
        "    .select([f.count(f.when(f.isnan(c) | f.isnull(c), True)).alias(c) for c in dados.columns])\\\n",
        "    .show()"
      ],
      "metadata": {
        "colab": {
          "base_uri": "https://localhost:8080/"
        },
        "id": "nypTvzzRHK-J",
        "outputId": "633d6d1e-a1f7-42df-e281-303feab538d6"
      },
      "execution_count": 36,
      "outputs": [
        {
          "output_type": "stream",
          "name": "stdout",
          "text": [
            "+---+-----+---------+---------+-------+------+----+------+----+----------+----+-----+--------+------------------+-------------+------------------+--------+-------+----------+------------+-----------------+---------------+\n",
            "| id|andar|area_util|banheiros|quartos|suites|vaga|bairro|zona|condominio|iptu|valor|Academia|Animais permitidos|Churrasqueira|Condomínio fechado|Elevador|Piscina|Playground|Portaria 24h|Portão eletrônico|Salão de festas|\n",
            "+---+-----+---------+---------+-------+------+----+------+----+----------+----+-----+--------+------------------+-------------+------------------+--------+-------+----------+------------+-----------------+---------------+\n",
            "|  0|    0|        0|        0|      0|     0|   0|     0|   0|         0|   0|    0|       0|                 0|            0|                 0|       0|      0|         0|           0|                0|              0|\n",
            "+---+-----+---------+---------+-------+------+----+------+----+----------+----+-----+--------+------------------+-------------+------------------+--------+-------+----------+------------+-----------------+---------------+\n",
            "\n"
          ]
        }
      ]
    },
    {
      "cell_type": "markdown",
      "source": [
        "#Tratando a coluna zona"
      ],
      "metadata": {
        "id": "h1QfqlogJAeQ"
      }
    },
    {
      "cell_type": "code",
      "source": [
        "dados.select(dados.zona).distinct().show()"
      ],
      "metadata": {
        "colab": {
          "base_uri": "https://localhost:8080/"
        },
        "outputId": "641bceac-6d77-4e6f-c666-c44e86e2403e",
        "id": "H20q_TN9JAeR"
      },
      "execution_count": 37,
      "outputs": [
        {
          "output_type": "stream",
          "name": "stdout",
          "text": [
            "+------------+\n",
            "|        zona|\n",
            "+------------+\n",
            "|  Zona Norte|\n",
            "|  Zona Oeste|\n",
            "|Zona Central|\n",
            "|    Zona Sul|\n",
            "|            |\n",
            "+------------+\n",
            "\n"
          ]
        }
      ]
    },
    {
      "cell_type": "code",
      "source": [
        "dados_zonas = dados.groupBy('id').pivot('zona').agg(f.lit(1)).fillna(0)"
      ],
      "metadata": {
        "id": "WAOBIUs2JAeS"
      },
      "execution_count": 38,
      "outputs": []
    },
    {
      "cell_type": "code",
      "source": [
        "dados_zonas = dados_zonas.drop('')\n",
        "dados_zonas.show(5)"
      ],
      "metadata": {
        "colab": {
          "base_uri": "https://localhost:8080/"
        },
        "id": "HWePU-_eJAeS",
        "outputId": "6327faf4-6e4f-4ed5-ad8e-c59498e7a229"
      },
      "execution_count": 39,
      "outputs": [
        {
          "output_type": "stream",
          "name": "stdout",
          "text": [
            "+--------------------+------------+----------+----------+--------+\n",
            "|                  id|Zona Central|Zona Norte|Zona Oeste|Zona Sul|\n",
            "+--------------------+------------+----------+----------+--------+\n",
            "|4e47e4d4-3326-4eb...|           0|         0|         0|       1|\n",
            "|02fba6ef-a691-442...|           0|         0|         1|       0|\n",
            "|fc03c1a9-8bbb-41a...|           0|         1|         0|       0|\n",
            "|3dd5d200-0a7f-43d...|           0|         0|         0|       1|\n",
            "|82707939-71bd-40c...|           0|         0|         0|       1|\n",
            "+--------------------+------------+----------+----------+--------+\n",
            "only showing top 5 rows\n",
            "\n"
          ]
        }
      ]
    },
    {
      "cell_type": "markdown",
      "source": [
        "Inserindo as colunas no dataset e excluindo a coluna zonas"
      ],
      "metadata": {
        "id": "JV14FVqtJAeT"
      }
    },
    {
      "cell_type": "code",
      "source": [
        "dados=dados\\\n",
        "    .join(dados_zonas, 'id', how='left').drop('zona')\n",
        "dados.show(10,truncate=False)"
      ],
      "metadata": {
        "colab": {
          "base_uri": "https://localhost:8080/"
        },
        "outputId": "f17d45d4-d26f-478d-c6ef-ed657719bc49",
        "id": "JNvE39URJAeT"
      },
      "execution_count": 40,
      "outputs": [
        {
          "output_type": "stream",
          "name": "stdout",
          "text": [
            "+------------------------------------+-----+---------+---------+-------+------+----+-----------------------+----------+------+--------+--------+------------------+-------------+------------------+--------+-------+----------+------------+-----------------+---------------+------------+----------+----------+--------+\n",
            "|id                                  |andar|area_util|banheiros|quartos|suites|vaga|bairro                 |condominio|iptu  |valor   |Academia|Animais permitidos|Churrasqueira|Condomínio fechado|Elevador|Piscina|Playground|Portaria 24h|Portão eletrônico|Salão de festas|Zona Central|Zona Norte|Zona Oeste|Zona Sul|\n",
            "+------------------------------------+-----+---------+---------+-------+------+----+-----------------------+----------+------+--------+--------+------------------+-------------+------------------+--------+-------+----------+------------+-----------------+---------------+------------+----------+----------+--------+\n",
            "|03a386b6-7ab8-4eff-891d-f8a16efc1989|0    |43.0     |1        |2      |0     |1   |Realengo               |285.0     |0.0   |22999.0 |1       |1                 |1            |1                 |0       |0      |1         |1           |1                |1              |0           |0         |1         |0       |\n",
            "|1fe78d41-b8e0-4d21-a1a8-72cb7863f441|0    |44.0     |1        |2      |0     |0   |Irajá                  |170.0     |0.0   |110000.0|0       |0                 |0            |0                 |0       |0      |0         |0           |0                |0              |0           |1         |0         |0       |\n",
            "|1fa1c1e5-e98c-433f-9675-1b43d7d6da01|4    |55.0     |1        |2      |0     |1   |Cosmos                 |0.0       |0.0   |115000.0|0       |0                 |0            |0                 |0       |0      |0         |0           |0                |0              |0           |0         |1         |0       |\n",
            "|a6ab01ae-3d40-40e7-bb6a-f2334e0abbe0|2    |55.0     |1        |2      |0     |0   |Tomás Coelho           |0.0       |0.0   |115000.0|0       |0                 |0            |0                 |0       |0      |0         |0           |0                |0              |0           |1         |0         |0       |\n",
            "|1d8ff7a2-16bd-4e3f-a92e-1b85f923ebb0|0    |50.0     |1        |1      |0     |0   |Centro                 |1300.0    |2679.0|125000.0|0       |0                 |0            |0                 |0       |0      |0         |0           |0                |0              |1           |0         |0         |0       |\n",
            "|40a2cbde-946b-42da-b7f2-b80057c7a47f|2    |47.0     |1        |2      |0     |1   |Campo Grande           |380.0     |0.0   |138000.0|0       |1                 |1            |1                 |0       |1      |0         |1           |0                |1              |0           |0         |1         |0       |\n",
            "|be269ddf-a4a3-4a72-bd54-93cdccf512dd|0    |45.0     |1        |2      |0     |1   |Campo Grande           |356.0     |0.0   |140000.0|0       |0                 |1            |1                 |0       |1      |0         |0           |0                |0              |0           |0         |1         |0       |\n",
            "|4b7e3d59-34fd-4bac-9232-1015cb3b3a24|3    |48.0     |1        |2      |0     |1   |Campo Grande           |0.0       |0.0   |150000.0|0       |1                 |1            |1                 |0       |1      |1         |1           |1                |1              |0           |0         |1         |0       |\n",
            "|a1a0c2ac-4fa8-4b02-a087-f9d76b6bccb7|9    |55.0     |1        |2      |0     |1   |Freguesia (Jacarepaguá)|780.0     |660.0 |160000.0|0       |1                 |1            |1                 |1       |0      |0         |1           |1                |1              |0           |0         |1         |0       |\n",
            "|390d2b88-e06d-47e5-ba7f-a680130ac5f0|0    |70.0     |2        |2      |0     |1   |Praça Seca             |420000.0  |0.0   |159000.0|0       |0                 |0            |0                 |0       |0      |0         |0           |0                |1              |0           |0         |1         |0       |\n",
            "+------------------------------------+-----+---------+---------+-------+------+----+-----------------------+----------+------+--------+--------+------------------+-------------+------------------+--------+-------+----------+------------+-----------------+---------------+------------+----------+----------+--------+\n",
            "only showing top 10 rows\n",
            "\n"
          ]
        }
      ]
    },
    {
      "cell_type": "markdown",
      "source": [
        "#Preparação dos dados para machine learning"
      ],
      "metadata": {
        "id": "u9iKUuboOvgi"
      }
    },
    {
      "cell_type": "code",
      "source": [
        "dados\\\n",
        "    .select('bairro')\\\n",
        "    .groupBy('bairro')\\\n",
        "    .count()\\\n",
        "    .show()"
      ],
      "metadata": {
        "colab": {
          "base_uri": "https://localhost:8080/"
        },
        "id": "rvj6qb_tOxNK",
        "outputId": "b558a373-8398-4728-b80f-34ec807ea8d9"
      },
      "execution_count": 41,
      "outputs": [
        {
          "output_type": "stream",
          "name": "stdout",
          "text": [
            "+-------------------+-----+\n",
            "|             bairro|count|\n",
            "+-------------------+-----+\n",
            "|             Cocotá|   16|\n",
            "|       Tomás Coelho|   38|\n",
            "|              Gávea|  597|\n",
            "|            Ipanema| 2113|\n",
            "|           Realengo|   46|\n",
            "|      Gardênia Azul|    7|\n",
            "|      Bento Ribeiro|   33|\n",
            "|              Rocha|   38|\n",
            "|Vicente de Carvalho|   86|\n",
            "|         Manguinhos|    1|\n",
            "|       Campo Grande|  639|\n",
            "|        Jacarepaguá| 4437|\n",
            "|               Leme|  234|\n",
            "|           Botafogo| 3499|\n",
            "|       Padre Miguel|   15|\n",
            "|       Santo Cristo|  357|\n",
            "|           Flamengo| 1378|\n",
            "|  Engenho da Rainha|   25|\n",
            "| Pedra de Guaratiba|   12|\n",
            "|            Piedade|  104|\n",
            "+-------------------+-----+\n",
            "only showing top 20 rows\n",
            "\n"
          ]
        }
      ]
    },
    {
      "cell_type": "markdown",
      "source": [
        "A coluna 'bairro' possui muitas variáveis, e para essa quantidade será irrelevante."
      ],
      "metadata": {
        "id": "lUC1TqYJO3rp"
      }
    },
    {
      "cell_type": "code",
      "source": [
        "dados=dados.drop('bairro')"
      ],
      "metadata": {
        "id": "T8p3Ge_FPDOm"
      },
      "execution_count": 42,
      "outputs": []
    },
    {
      "cell_type": "code",
      "source": [
        "dados.columns"
      ],
      "metadata": {
        "colab": {
          "base_uri": "https://localhost:8080/"
        },
        "id": "G9F1nihYPXVY",
        "outputId": "10a1838f-82a1-4adf-ba6b-d3ce135685d5"
      },
      "execution_count": 43,
      "outputs": [
        {
          "output_type": "execute_result",
          "data": {
            "text/plain": [
              "['id',\n",
              " 'andar',\n",
              " 'area_util',\n",
              " 'banheiros',\n",
              " 'quartos',\n",
              " 'suites',\n",
              " 'vaga',\n",
              " 'condominio',\n",
              " 'iptu',\n",
              " 'valor',\n",
              " 'Academia',\n",
              " 'Animais permitidos',\n",
              " 'Churrasqueira',\n",
              " 'Condomínio fechado',\n",
              " 'Elevador',\n",
              " 'Piscina',\n",
              " 'Playground',\n",
              " 'Portaria 24h',\n",
              " 'Portão eletrônico',\n",
              " 'Salão de festas',\n",
              " 'Zona Central',\n",
              " 'Zona Norte',\n",
              " 'Zona Oeste',\n",
              " 'Zona Sul']"
            ]
          },
          "metadata": {},
          "execution_count": 43
        }
      ]
    },
    {
      "cell_type": "code",
      "source": [
        "dados=dados\\\n",
        "      .withColumnRenamed(\"Animais permitidos\",\"Animais_permitidos\")\\\n",
        "      .withColumnRenamed(\"Condomínio fechado\",\"Condominio_fechado\")\\\n",
        "      .withColumnRenamed(\"Portaria 24h\",\"Portaria_24h\")\\\n",
        "      .withColumnRenamed(\"Portão eletrônico\",\"Portao_eletronico\")\\\n",
        "      .withColumnRenamed(\"Salão de festas\",\"Salao_festas\")\\\n",
        "      .withColumnRenamed(\"Zona Norte\",\"Zona_Norte\")\\\n",
        "      .withColumnRenamed(\"Zona Sul\",\"Zona_Sul\")\\\n",
        "      .withColumnRenamed(\"Zona Oeste\",\"Zona_Oeste\")\\\n",
        "      .withColumnRenamed(\"Zona Central\",\"Zona_Central\")"
      ],
      "metadata": {
        "id": "hYBVJeXfPvoF"
      },
      "execution_count": 44,
      "outputs": []
    },
    {
      "cell_type": "code",
      "source": [
        "dados.write.parquet(\n",
        "    path='/content/drive/MyDrive/curso-spark/Challenge-DS/dados_parquet',\n",
        "    mode='overwrite'\n",
        ")"
      ],
      "metadata": {
        "id": "1s_SAdwuQRLt"
      },
      "execution_count": 45,
      "outputs": []
    },
    {
      "cell_type": "markdown",
      "source": [
        "#Preparação dos dados para os algoritmos do Spark MLlib"
      ],
      "metadata": {
        "id": "TwZnwUMvAueG"
      }
    },
    {
      "cell_type": "code",
      "source": [
        "from pyspark.ml.feature import VectorAssembler"
      ],
      "metadata": {
        "id": "T6_JUDywBDRw"
      },
      "execution_count": 49,
      "outputs": []
    },
    {
      "cell_type": "code",
      "source": [
        "dataset = spark.read.parquet('/content/drive/MyDrive/curso-spark/Challenge-DS/dados_parquet/part-00000-23e5fb8e-d29c-4e7c-9c21-c8b6f8fa7df9-c000.snappy.parquet')"
      ],
      "metadata": {
        "id": "TZIf44ySAx3K"
      },
      "execution_count": 50,
      "outputs": []
    },
    {
      "cell_type": "code",
      "source": [
        "dataset.show(5)\n",
        "     "
      ],
      "metadata": {
        "colab": {
          "base_uri": "https://localhost:8080/"
        },
        "id": "QGmlYSiQBEXG",
        "outputId": "83338940-517f-4f17-9894-455366d5817c"
      },
      "execution_count": 51,
      "outputs": [
        {
          "output_type": "stream",
          "name": "stdout",
          "text": [
            "+--------------------+-----+---------+---------+-------+------+----+----------+------+--------+--------+------------------+-------------+------------------+--------+-------+----------+------------+-----------------+------------+------------+----------+----------+--------+\n",
            "|                  id|andar|area_util|banheiros|quartos|suites|vaga|condominio|  iptu|   valor|Academia|Animais_permitidos|Churrasqueira|Condominio_fechado|Elevador|Piscina|Playground|Portaria_24h|Portao_eletronico|Salao_festas|Zona_Central|Zona_Norte|Zona_Oeste|Zona_Sul|\n",
            "+--------------------+-----+---------+---------+-------+------+----+----------+------+--------+--------+------------------+-------------+------------------+--------+-------+----------+------------+-----------------+------------+------------+----------+----------+--------+\n",
            "|03a386b6-7ab8-4ef...|    0|     43.0|        1|      2|     0|   1|     285.0|   0.0| 22999.0|       1|                 1|            1|                 1|       0|      0|         1|           1|                1|           1|           0|         0|         1|       0|\n",
            "|1fe78d41-b8e0-4d2...|    0|     44.0|        1|      2|     0|   0|     170.0|   0.0|110000.0|       0|                 0|            0|                 0|       0|      0|         0|           0|                0|           0|           0|         1|         0|       0|\n",
            "|1fa1c1e5-e98c-433...|    4|     55.0|        1|      2|     0|   1|       0.0|   0.0|115000.0|       0|                 0|            0|                 0|       0|      0|         0|           0|                0|           0|           0|         0|         1|       0|\n",
            "|a6ab01ae-3d40-40e...|    2|     55.0|        1|      2|     0|   0|       0.0|   0.0|115000.0|       0|                 0|            0|                 0|       0|      0|         0|           0|                0|           0|           0|         1|         0|       0|\n",
            "|1d8ff7a2-16bd-4e3...|    0|     50.0|        1|      1|     0|   0|    1300.0|2679.0|125000.0|       0|                 0|            0|                 0|       0|      0|         0|           0|                0|           0|           1|         0|         0|       0|\n",
            "+--------------------+-----+---------+---------+-------+------+----+----------+------+--------+--------+------------------+-------------+------------------+--------+-------+----------+------------+-----------------+------------+------------+----------+----------+--------+\n",
            "only showing top 5 rows\n",
            "\n"
          ]
        }
      ]
    },
    {
      "cell_type": "markdown",
      "source": [
        "Renomeando \"valor\" para \"label\""
      ],
      "metadata": {
        "id": "GrklEii1Bc0h"
      }
    },
    {
      "cell_type": "code",
      "source": [
        "dataset = dataset.withColumnRenamed('valor', 'label')\n",
        "dataset = dataset.drop('id')"
      ],
      "metadata": {
        "id": "l6PBbY6HBQas"
      },
      "execution_count": 52,
      "outputs": []
    },
    {
      "cell_type": "code",
      "source": [
        "dataset.columns"
      ],
      "metadata": {
        "colab": {
          "base_uri": "https://localhost:8080/"
        },
        "id": "wuFLwPYiBdUi",
        "outputId": "292291c4-2ba2-4ada-c155-0f91814e2ee7"
      },
      "execution_count": 53,
      "outputs": [
        {
          "output_type": "execute_result",
          "data": {
            "text/plain": [
              "['andar',\n",
              " 'area_util',\n",
              " 'banheiros',\n",
              " 'quartos',\n",
              " 'suites',\n",
              " 'vaga',\n",
              " 'condominio',\n",
              " 'iptu',\n",
              " 'label',\n",
              " 'Academia',\n",
              " 'Animais_permitidos',\n",
              " 'Churrasqueira',\n",
              " 'Condominio_fechado',\n",
              " 'Elevador',\n",
              " 'Piscina',\n",
              " 'Playground',\n",
              " 'Portaria_24h',\n",
              " 'Portao_eletronico',\n",
              " 'Salao_festas',\n",
              " 'Zona_Central',\n",
              " 'Zona_Norte',\n",
              " 'Zona_Oeste',\n",
              " 'Zona_Sul']"
            ]
          },
          "metadata": {},
          "execution_count": 53
        }
      ]
    },
    {
      "cell_type": "code",
      "source": [
        "X = ['andar',\n",
        " 'area_util',\n",
        " 'banheiros',\n",
        " 'quartos',\n",
        " 'suites',\n",
        " 'vaga',\n",
        " 'condominio',\n",
        " 'iptu',\n",
        " 'Academia',\n",
        " 'Animais_permitidos',\n",
        " 'Churrasqueira',\n",
        " 'Condominio_fechado',\n",
        " 'Elevador',\n",
        " 'Piscina',\n",
        " 'Playground',\n",
        " 'Portaria_24h',\n",
        " 'Portao_eletronico',\n",
        " 'Salao_festas',\n",
        " 'Zona_Central',\n",
        " 'Zona_Norte',\n",
        " 'Zona_Oeste',\n",
        " 'Zona_Sul']"
      ],
      "metadata": {
        "id": "e5UzV9kLDJbV"
      },
      "execution_count": 54,
      "outputs": []
    },
    {
      "cell_type": "markdown",
      "source": [
        "Vetorização dos Dados"
      ],
      "metadata": {
        "id": "zzqgq51_DNNh"
      }
    },
    {
      "cell_type": "code",
      "source": [
        "assembler = VectorAssembler(inputCols = X, outputCol = 'features')"
      ],
      "metadata": {
        "id": "N9VZe_V6DeBC"
      },
      "execution_count": 55,
      "outputs": []
    },
    {
      "cell_type": "code",
      "source": [
        "dados_prep = assembler.transform(dataset).select('features', 'label')"
      ],
      "metadata": {
        "id": "S3hXplsvDjDY"
      },
      "execution_count": 56,
      "outputs": []
    },
    {
      "cell_type": "code",
      "source": [
        "dados_prep.show(10, truncate = False)"
      ],
      "metadata": {
        "colab": {
          "base_uri": "https://localhost:8080/"
        },
        "id": "komOW9CNELMN",
        "outputId": "1e21f752-253e-4aac-b6ff-275fe8e3aa16"
      },
      "execution_count": 57,
      "outputs": [
        {
          "output_type": "stream",
          "name": "stdout",
          "text": [
            "+-----------------------------------------------------------------------------------------------+--------+\n",
            "|features                                                                                       |label   |\n",
            "+-----------------------------------------------------------------------------------------------+--------+\n",
            "|[0.0,43.0,1.0,2.0,0.0,1.0,285.0,0.0,1.0,1.0,1.0,1.0,0.0,0.0,1.0,1.0,1.0,1.0,0.0,0.0,1.0,0.0]   |22999.0 |\n",
            "|(22,[1,2,3,6,19],[44.0,1.0,2.0,170.0,1.0])                                                     |110000.0|\n",
            "|(22,[0,1,2,3,5,20],[4.0,55.0,1.0,2.0,1.0,1.0])                                                 |115000.0|\n",
            "|(22,[0,1,2,3,19],[2.0,55.0,1.0,2.0,1.0])                                                       |115000.0|\n",
            "|(22,[1,2,3,6,7,18],[50.0,1.0,1.0,1300.0,2679.0,1.0])                                           |125000.0|\n",
            "|(22,[0,1,2,3,5,6,9,10,11,13,15,17,20],[2.0,47.0,1.0,2.0,1.0,380.0,1.0,1.0,1.0,1.0,1.0,1.0,1.0])|138000.0|\n",
            "|(22,[1,2,3,5,6,10,11,13,20],[45.0,1.0,2.0,1.0,356.0,1.0,1.0,1.0,1.0])                          |140000.0|\n",
            "|[3.0,48.0,1.0,2.0,0.0,1.0,0.0,0.0,0.0,1.0,1.0,1.0,0.0,1.0,1.0,1.0,1.0,1.0,0.0,0.0,1.0,0.0]     |150000.0|\n",
            "|[9.0,55.0,1.0,2.0,0.0,1.0,780.0,660.0,0.0,1.0,1.0,1.0,1.0,0.0,0.0,1.0,1.0,1.0,0.0,0.0,1.0,0.0] |160000.0|\n",
            "|(22,[1,2,3,5,6,17,20],[70.0,2.0,2.0,1.0,420000.0,1.0,1.0])                                     |159000.0|\n",
            "+-----------------------------------------------------------------------------------------------+--------+\n",
            "only showing top 10 rows\n",
            "\n"
          ]
        }
      ]
    },
    {
      "cell_type": "markdown",
      "source": [
        "Análise de Correlação"
      ],
      "metadata": {
        "id": "f0YOf3QmEPWx"
      }
    },
    {
      "cell_type": "code",
      "source": [
        "from pyspark.ml.stat import Correlation\n",
        "import pandas as pd"
      ],
      "metadata": {
        "id": "2O8wyTz4EQhl"
      },
      "execution_count": 58,
      "outputs": []
    },
    {
      "cell_type": "code",
      "source": [
        "correlacao = Correlation.corr(dados_prep, 'features').collect()[0][0]"
      ],
      "metadata": {
        "id": "KDKh2qjHETDo"
      },
      "execution_count": 59,
      "outputs": []
    },
    {
      "cell_type": "code",
      "source": [
        "dataframe_correlacao = pd.DataFrame(correlacao.toArray(), columns = X, index = X)"
      ],
      "metadata": {
        "id": "8zx0E5tqEX9t"
      },
      "execution_count": 60,
      "outputs": []
    },
    {
      "cell_type": "code",
      "source": [
        "import matplotlib.pyplot as plt\n",
        "import seaborn as sns"
      ],
      "metadata": {
        "id": "bLRJt6lIEZoy"
      },
      "execution_count": 61,
      "outputs": []
    },
    {
      "cell_type": "code",
      "source": [
        "plt.figure(figsize = (12,10))\n",
        "paleta = sns.color_palette('light:salmon', as_cmap = True)\n",
        "sns.heatmap(dataframe_correlacao.round(1), annot = True, cmap = paleta)"
      ],
      "metadata": {
        "colab": {
          "base_uri": "https://localhost:8080/",
          "height": 0
        },
        "id": "H6dRyN3vEeR8",
        "outputId": "6f6957bd-727a-4b1f-e1fa-2fc4fc89fda7"
      },
      "execution_count": 62,
      "outputs": [
        {
          "output_type": "execute_result",
          "data": {
            "text/plain": [
              "<matplotlib.axes._subplots.AxesSubplot at 0x7f8ad8bba190>"
            ]
          },
          "metadata": {},
          "execution_count": 62
        },
        {
          "output_type": "display_data",
          "data": {
            "text/plain": [
              "<Figure size 864x720 with 2 Axes>"
            ],
            "image/png": "[encoded data removed]"
          },
          "metadata": {
            "needs_background": "light"
          }
        }
      ]
    },
    {
      "cell_type": "markdown",
      "source": [
        "#Regressão Linear"
      ],
      "metadata": {
        "id": "JnHLPqCZEsdH"
      }
    },
    {
      "cell_type": "code",
      "source": [],
      "metadata": {
        "id": "3v2TEGDcUT4Y"
      },
      "execution_count": 76,
      "outputs": []
    },
    {
      "cell_type": "code",
      "source": [
        "from pyspark.ml.regression import LinearRegression"
      ],
      "metadata": {
        "id": "i747DDAaGiE0"
      },
      "execution_count": 77,
      "outputs": []
    },
    {
      "cell_type": "code",
      "source": [
        "treino, teste = dados_prep.randomSplit([0.7, 0.3], seed = 101)"
      ],
      "metadata": {
        "id": "O0vfhB7gGl5U"
      },
      "execution_count": 78,
      "outputs": []
    },
    {
      "cell_type": "code",
      "source": [
        "treino.count()"
      ],
      "metadata": {
        "colab": {
          "base_uri": "https://localhost:8080/"
        },
        "id": "gsuGFCz8GppE",
        "outputId": "4cf52071-8338-49e0-8aa0-7c7531ee2a28"
      },
      "execution_count": 79,
      "outputs": [
        {
          "output_type": "execute_result",
          "data": {
            "text/plain": [
              "46510"
            ]
          },
          "metadata": {},
          "execution_count": 79
        }
      ]
    },
    {
      "cell_type": "code",
      "source": [
        "teste.count()"
      ],
      "metadata": {
        "colab": {
          "base_uri": "https://localhost:8080/"
        },
        "id": "hNqOJs0tGqA_",
        "outputId": "f9d34010-c5e0-4604-9e68-7d7a0cb0cb76"
      },
      "execution_count": 80,
      "outputs": [
        {
          "output_type": "execute_result",
          "data": {
            "text/plain": [
              "20052"
            ]
          },
          "metadata": {},
          "execution_count": 80
        }
      ]
    },
    {
      "cell_type": "code",
      "source": [
        "lr = LinearRegression()"
      ],
      "metadata": {
        "id": "q7YyPqB8G5ay"
      },
      "execution_count": 81,
      "outputs": []
    },
    {
      "cell_type": "code",
      "source": [
        "modelo_lr = lr.fit(treino)"
      ],
      "metadata": {
        "id": "5nAXfwcOGzPy"
      },
      "execution_count": 82,
      "outputs": []
    },
    {
      "cell_type": "code",
      "source": [
        "modelo_lr_treino = modelo_lr.transform(treino)"
      ],
      "metadata": {
        "id": "w5VlLVLaG_rl"
      },
      "execution_count": 83,
      "outputs": []
    },
    {
      "cell_type": "markdown",
      "source": [
        "Avaliação dos modelos"
      ],
      "metadata": {
        "id": "EdjolsutIAqq"
      }
    },
    {
      "cell_type": "code",
      "source": [
        "resumo_treino = modelo_lr.summary"
      ],
      "metadata": {
        "id": "Bw8FFjylIBdn"
      },
      "execution_count": 84,
      "outputs": []
    },
    {
      "cell_type": "code",
      "source": [
        "resumo_treino.r2"
      ],
      "metadata": {
        "colab": {
          "base_uri": "https://localhost:8080/"
        },
        "id": "63pXerICIElD",
        "outputId": "1fdae2f8-2594-4cf2-ae23-42928470abd8"
      },
      "execution_count": 85,
      "outputs": [
        {
          "output_type": "execute_result",
          "data": {
            "text/plain": [
              "0.6647068889109787"
            ]
          },
          "metadata": {},
          "execution_count": 85
        }
      ]
    },
    {
      "cell_type": "code",
      "source": [
        "resumo_treino.rootMeanSquaredError"
      ],
      "metadata": {
        "colab": {
          "base_uri": "https://localhost:8080/"
        },
        "id": "ENab_F_WIKi-",
        "outputId": "5d4d3b56-a0c8-4431-a03b-f067b88b8069"
      },
      "execution_count": 86,
      "outputs": [
        {
          "output_type": "execute_result",
          "data": {
            "text/plain": [
              "854711.2657380718"
            ]
          },
          "metadata": {},
          "execution_count": 86
        }
      ]
    },
    {
      "cell_type": "code",
      "source": [
        "resumo_teste = modelo_lr.evaluate(teste)"
      ],
      "metadata": {
        "id": "xCwERDtTIQND"
      },
      "execution_count": 87,
      "outputs": []
    },
    {
      "cell_type": "code",
      "source": [
        "resumo_teste.r2"
      ],
      "metadata": {
        "colab": {
          "base_uri": "https://localhost:8080/"
        },
        "id": "jLpX-686ISf8",
        "outputId": "f6289d93-5180-4f60-9e30-bf5703a236e5"
      },
      "execution_count": 88,
      "outputs": [
        {
          "output_type": "execute_result",
          "data": {
            "text/plain": [
              "0.6675078852679652"
            ]
          },
          "metadata": {},
          "execution_count": 88
        }
      ]
    },
    {
      "cell_type": "code",
      "source": [
        "resumo_teste.rootMeanSquaredError"
      ],
      "metadata": {
        "colab": {
          "base_uri": "https://localhost:8080/"
        },
        "id": "PuXmFHP9IVHP",
        "outputId": "89987578-bc9f-44d0-e3a1-e0e2e16d2a93"
      },
      "execution_count": 89,
      "outputs": [
        {
          "output_type": "execute_result",
          "data": {
            "text/plain": [
              "842737.2045493997"
            ]
          },
          "metadata": {},
          "execution_count": 89
        }
      ]
    },
    {
      "cell_type": "markdown",
      "source": [
        "Tabela Resumo Regressão Linear"
      ],
      "metadata": {
        "id": "gNGlU221IYoz"
      }
    },
    {
      "cell_type": "code",
      "source": [
        "print('Linear Regression')\n",
        "print(\"=\"*30)\n",
        "print(\"Dados de Treino\")\n",
        "print(\"=\"*30)\n",
        "print(\"R²: %f\" % resumo_treino.r2)\n",
        "print(\"RMSE: %f\" % resumo_treino.rootMeanSquaredError)\n",
        "print(\"\")\n",
        "print(\"=\"*30)\n",
        "print(\"Dados de Teste\")\n",
        "print(\"=\"*30)\n",
        "print(\"R²: %f\" % resumo_teste.r2)\n",
        "print(\"RMSE: %f\" % resumo_teste.rootMeanSquaredError)"
      ],
      "metadata": {
        "colab": {
          "base_uri": "https://localhost:8080/"
        },
        "id": "IRYyy1EHIYL7",
        "outputId": "101cd4ef-4d10-401c-bee7-b4d9b59553e6"
      },
      "execution_count": 90,
      "outputs": [
        {
          "output_type": "stream",
          "name": "stdout",
          "text": [
            "Linear Regression\n",
            "==============================\n",
            "Dados de Treino\n",
            "==============================\n",
            "R²: 0.664707\n",
            "RMSE: 854711.265738\n",
            "\n",
            "==============================\n",
            "Dados de Teste\n",
            "==============================\n",
            "R²: 0.667508\n",
            "RMSE: 842737.204549\n"
          ]
        }
      ]
    },
    {
      "cell_type": "markdown",
      "source": [
        "#Árvore de Decisão"
      ],
      "metadata": {
        "id": "mzCGOkXMXmF8"
      }
    },
    {
      "cell_type": "code",
      "source": [
        "from pyspark.ml.regression import DecisionTreeRegressor\n",
        "from pyspark.ml.evaluation import RegressionEvaluator\n",
        "     "
      ],
      "metadata": {
        "id": "PdQ4UO1vXqoc"
      },
      "execution_count": 91,
      "outputs": []
    },
    {
      "cell_type": "code",
      "source": [
        "dtr = DecisionTreeRegressor(seed=101, maxDepth=7) # Definição do modelo de árvore de decisão com profundidade igual a 7\n",
        "modelo_dtr = dtr.fit(treino) #Ajuste do modelo\n",
        "previsoes_dtr_treino = modelo_dtr.transform(treino)"
      ],
      "metadata": {
        "id": "cSgrzQDXX-Os"
      },
      "execution_count": 92,
      "outputs": []
    },
    {
      "cell_type": "code",
      "source": [
        "evaluator = RegressionEvaluator() # Criando avaliador de algoritmos de regressão\n",
        "previsoes_dtr_teste = modelo_dtr.transform(teste)"
      ],
      "metadata": {
        "id": "QRkmzXrzYC4L"
      },
      "execution_count": 93,
      "outputs": []
    },
    {
      "cell_type": "code",
      "source": [
        "print('Decision Tree Regression')\n",
        "print(\"=\"*30)\n",
        "print(\"Dados de Treino\")\n",
        "print(\"=\"*30)\n",
        "print(\"R²: %f\" % evaluator.evaluate(previsoes_dtr_treino, {evaluator.metricName: \"r2\"}))\n",
        "print(\"RMSE: %f\" % evaluator.evaluate(previsoes_dtr_treino, {evaluator.metricName: \"rmse\"}))\n",
        "print(\"\")\n",
        "print(\"=\"*30)\n",
        "print(\"Dados de Teste\")\n",
        "print(\"=\"*30)\n",
        "print(\"R²: %f\" % evaluator.evaluate(previsoes_dtr_teste, {evaluator.metricName: \"r2\"}))\n",
        "print(\"RMSE: %f\" % evaluator.evaluate(previsoes_dtr_teste, {evaluator.metricName: \"rmse\"}))"
      ],
      "metadata": {
        "colab": {
          "base_uri": "https://localhost:8080/"
        },
        "id": "9FX6pamTYK8r",
        "outputId": "7e9d52b4-ab6a-4cc7-a058-1eb2349aee61"
      },
      "execution_count": 94,
      "outputs": [
        {
          "output_type": "stream",
          "name": "stdout",
          "text": [
            "Decision Tree Regression\n",
            "==============================\n",
            "Dados de Treino\n",
            "==============================\n",
            "R²: 0.801438\n",
            "RMSE: 657742.193410\n",
            "\n",
            "==============================\n",
            "Dados de Teste\n",
            "==============================\n",
            "R²: 0.764577\n",
            "RMSE: 709129.988889\n"
          ]
        }
      ]
    },
    {
      "cell_type": "markdown",
      "source": [
        "# Random Forest"
      ],
      "metadata": {
        "id": "58lSlGB5YZ4f"
      }
    },
    {
      "cell_type": "code",
      "source": [
        "from pyspark.ml.regression import RandomForestRegressor"
      ],
      "metadata": {
        "id": "TRXnF8EIYbj4"
      },
      "execution_count": 95,
      "outputs": []
    },
    {
      "cell_type": "code",
      "source": [
        "rfr = RandomForestRegressor(seed=101, maxDepth=7, numTrees=10) # Definição de alguns inputs como profunidade e o número de árvores\n",
        "modelo_rfr = rfr.fit(treino)#Ajuste do modelo\n",
        "previsoes_rfr_treino = modelo_rfr.transform(treino)\n",
        "evaluator = RegressionEvaluator()"
      ],
      "metadata": {
        "id": "Apa0DNrNYi8G"
      },
      "execution_count": 96,
      "outputs": []
    },
    {
      "cell_type": "code",
      "source": [
        "previsoes_rfr_teste = modelo_rfr.transform(teste)"
      ],
      "metadata": {
        "id": "z4dU26YOYl1F"
      },
      "execution_count": 97,
      "outputs": []
    },
    {
      "cell_type": "code",
      "source": [
        "print('Random Forest Regression')\n",
        "print(\"=\"*30)\n",
        "print(\"Dados de Treino\")\n",
        "print(\"=\"*30)\n",
        "print(\"R²: %f\" % evaluator.evaluate(previsoes_rfr_treino, {evaluator.metricName: \"r2\"}))\n",
        "print(\"RMSE: %f\" % evaluator.evaluate(previsoes_rfr_treino, {evaluator.metricName: \"rmse\"}))\n",
        "print(\"\")\n",
        "print(\"=\"*30)\n",
        "print(\"Dados de Teste\")\n",
        "print(\"=\"*30)\n",
        "print(\"R²: %f\" % evaluator.evaluate(previsoes_rfr_teste, {evaluator.metricName: \"r2\"}))\n",
        "print(\"RMSE: %f\" % evaluator.evaluate(previsoes_rfr_teste, {evaluator.metricName: \"rmse\"}))"
      ],
      "metadata": {
        "colab": {
          "base_uri": "https://localhost:8080/"
        },
        "id": "59n3JjbxYrQv",
        "outputId": "01aeda66-fa96-4f6a-aa02-e193ae27daec"
      },
      "execution_count": 98,
      "outputs": [
        {
          "output_type": "stream",
          "name": "stdout",
          "text": [
            "Random Forest Regression\n",
            "==============================\n",
            "Dados de Treino\n",
            "==============================\n",
            "R²: 0.813013\n",
            "RMSE: 638282.946321\n",
            "\n",
            "==============================\n",
            "Dados de Teste\n",
            "==============================\n",
            "R²: 0.795665\n",
            "RMSE: 660651.766366\n"
          ]
        }
      ]
    },
    {
      "cell_type": "markdown",
      "source": [
        "#Gradient Boost Trees Regressor"
      ],
      "metadata": {
        "id": "Td6ifNeIYu3N"
      }
    },
    {
      "cell_type": "code",
      "source": [
        "from pyspark.ml.regression import GBTRegressor"
      ],
      "metadata": {
        "id": "yDrfECX-Yz9p"
      },
      "execution_count": 99,
      "outputs": []
    },
    {
      "cell_type": "code",
      "source": [
        "gbtr = GBTRegressor(maxDepth=7,seed=101)\n",
        "modelo_gbtr = gbtr.fit(treino) #Ajuste do modelo\n",
        "previsoes_gbtr_treino = modelo_gbtr.transform(treino)"
      ],
      "metadata": {
        "id": "IclrEaO6Y3W-"
      },
      "execution_count": 100,
      "outputs": []
    },
    {
      "cell_type": "code",
      "source": [
        "evaluator = RegressionEvaluator()"
      ],
      "metadata": {
        "id": "6VNN0OPMY6BY"
      },
      "execution_count": 101,
      "outputs": []
    },
    {
      "cell_type": "code",
      "source": [
        "previsoes_gbtr_teste = modelo_gbtr.transform(teste)"
      ],
      "metadata": {
        "id": "UeGWgeoKY7ys"
      },
      "execution_count": 102,
      "outputs": []
    },
    {
      "cell_type": "code",
      "source": [
        "print('Gradient Boost Trees Regression')\n",
        "print(\"=\"*30)\n",
        "print(\"Dados de Treino\")\n",
        "print(\"=\"*30)\n",
        "print(\"R²: %f\" % evaluator.evaluate(previsoes_gbtr_treino, {evaluator.metricName: \"r2\"}))\n",
        "print(\"RMSE: %f\" % evaluator.evaluate(previsoes_gbtr_treino, {evaluator.metricName: \"rmse\"}))\n",
        "print(\"\")\n",
        "print(\"=\"*30)\n",
        "print(\"Dados de Teste\")\n",
        "print(\"=\"*30)\n",
        "print(\"R²: %f\" % evaluator.evaluate(previsoes_gbtr_teste, {evaluator.metricName: \"r2\"}))\n",
        "print(\"RMSE: %f\" % evaluator.evaluate(previsoes_gbtr_teste, {evaluator.metricName: \"rmse\"}))"
      ],
      "metadata": {
        "colab": {
          "base_uri": "https://localhost:8080/"
        },
        "id": "UjCbXJBJY-Sl",
        "outputId": "c61fb05f-de0d-4f9b-acd7-bce6a867d77e"
      },
      "execution_count": 103,
      "outputs": [
        {
          "output_type": "stream",
          "name": "stdout",
          "text": [
            "Gradient Boost Trees Regression\n",
            "==============================\n",
            "Dados de Treino\n",
            "==============================\n",
            "R²: 0.875065\n",
            "RMSE: 521734.451125\n",
            "\n",
            "==============================\n",
            "Dados de Teste\n",
            "==============================\n",
            "R²: 0.802866\n",
            "RMSE: 648907.070119\n"
          ]
        }
      ]
    },
    {
      "cell_type": "markdown",
      "source": [
        "# Otimização de hiperparâmetros"
      ],
      "metadata": {
        "id": "xpEgVv_QZbcw"
      }
    },
    {
      "cell_type": "markdown",
      "source": [
        "Regressão Linear"
      ],
      "metadata": {
        "id": "QUUUcgXQceo8"
      }
    },
    {
      "cell_type": "code",
      "source": [
        "lr = LinearRegression()"
      ],
      "metadata": {
        "id": "DXJngJgHchcL"
      },
      "execution_count": 126,
      "outputs": []
    },
    {
      "cell_type": "code",
      "source": [
        "# Criando o grid com um intervalo de valores que serão utilizados no hiperparâmetros\n",
        "grid = ParamGridBuilder()\\\n",
        "    .addGrid(lr.loss, ['squaredError', 'huber'])\\\n",
        "    .build()"
      ],
      "metadata": {
        "id": "SKQB1n8lckwj"
      },
      "execution_count": 127,
      "outputs": []
    },
    {
      "cell_type": "code",
      "source": [
        "# Criando o modelo com crossvalidation\n",
        "lr_cv = CrossValidator(\n",
        "    estimator=lr,\n",
        "    estimatorParamMaps=grid,\n",
        "    evaluator=evaluator,\n",
        "    numFolds=3,\n",
        "    seed=101\n",
        ")"
      ],
      "metadata": {
        "id": "Dmy6uGfbcsK0"
      },
      "execution_count": 128,
      "outputs": []
    },
    {
      "cell_type": "code",
      "source": [
        "\n",
        "# Ajustando o modelo aos dados\n",
        "modelo_lr_cv = lr_cv.fit(treino)"
      ],
      "metadata": {
        "id": "ud653wB8cuTk"
      },
      "execution_count": 129,
      "outputs": []
    },
    {
      "cell_type": "code",
      "source": [
        "# Prevendo resultados a partir dos dados de treino\n",
        "previsoes_lr_cv_treino = modelo_lr_cv.transform(treino)"
      ],
      "metadata": {
        "id": "cGNXezN2cuLL"
      },
      "execution_count": 130,
      "outputs": []
    },
    {
      "cell_type": "code",
      "source": [
        "# Prevendo resultados a partir dos dados de teste\n",
        "previsoes_lr_cv_teste = modelo_lr_cv.transform(teste)"
      ],
      "metadata": {
        "id": "HA0mWN3_ct-_"
      },
      "execution_count": 131,
      "outputs": []
    },
    {
      "cell_type": "code",
      "source": [
        "print('Árvore de Decisão')\n",
        "print(\"=\"*30)\n",
        "print(\"Sem Cross Validation\")\n",
        "print(\"=\"*30)\n",
        "print(\"R²: %f\" % evaluator.evaluate(previsoes_lr_cv_treino, {evaluator.metricName: \"r2\"}))\n",
        "print(\"RMSE: %f\" % evaluator.evaluate(previsoes_lr_cv_treino, {evaluator.metricName: \"rmse\"}))\n",
        "print(\"\")\n",
        "print(\"=\"*30)\n",
        "print(\"Com Cross Validation\")\n",
        "print(\"=\"*30)\n",
        "print(\"R²: %f\" % evaluator.evaluate(previsoes_lr_cv_teste, {evaluator.metricName: \"r2\"}))\n",
        "print(\"RMSE: %f\" % evaluator.evaluate(previsoes_lr_cv_teste, {evaluator.metricName: \"rmse\"}))"
      ],
      "metadata": {
        "colab": {
          "base_uri": "https://localhost:8080/"
        },
        "id": "nXwTYLoOc4FN",
        "outputId": "864b8925-fb99-43f0-8194-97599e81089f"
      },
      "execution_count": 133,
      "outputs": [
        {
          "output_type": "stream",
          "name": "stdout",
          "text": [
            "Árvore de Decisão\n",
            "==============================\n",
            "Sem Cross Validation\n",
            "==============================\n",
            "R²: 0.664707\n",
            "RMSE: 854711.265738\n",
            "\n",
            "==============================\n",
            "Com Cross Validation\n",
            "==============================\n",
            "R²: 0.667508\n",
            "RMSE: 842737.204549\n"
          ]
        }
      ]
    },
    {
      "cell_type": "markdown",
      "source": [
        "Árvore de Decisão com Cross Validation"
      ],
      "metadata": {
        "id": "snKZSZWpZdY8"
      }
    },
    {
      "cell_type": "code",
      "source": [
        "from pyspark.ml.regression import DecisionTreeRegressor\n",
        "from pyspark.ml.tuning import CrossValidator, ParamGridBuilder\n",
        "from pyspark.ml.evaluation import RegressionEvaluator"
      ],
      "metadata": {
        "id": "wk5SyQCUZfG_"
      },
      "execution_count": 104,
      "outputs": []
    },
    {
      "cell_type": "code",
      "source": [
        "dtr = DecisionTreeRegressor()"
      ],
      "metadata": {
        "id": "u-r0SbZTZigo"
      },
      "execution_count": 105,
      "outputs": []
    },
    {
      "cell_type": "code",
      "source": [
        "grid = ParamGridBuilder() \\\n",
        "    .addGrid(dtr.maxDepth, [2, 5, 10])\\\n",
        "    .addGrid(dtr.maxBins, [10, 32, 45])\\\n",
        "    .build() # Definição dos hiperparametros a serem testado, 3x3, gerando 9 combinações a serem avaliadas"
      ],
      "metadata": {
        "id": "4deMP0GGZkp3"
      },
      "execution_count": 106,
      "outputs": []
    },
    {
      "cell_type": "code",
      "source": [
        "evaluator = RegressionEvaluator()\n",
        "dtc_cv = CrossValidator(\n",
        "    estimator=dtr,\n",
        "    estimatorParamMaps=grid,\n",
        "    evaluator=evaluator,\n",
        "    numFolds=3,\n",
        "    seed = 101\n",
        "    )"
      ],
      "metadata": {
        "id": "uCy1mYxaZnR0"
      },
      "execution_count": 107,
      "outputs": []
    },
    {
      "cell_type": "code",
      "source": [
        "modelo_dtc_cv = dtc_cv.fit(treino)"
      ],
      "metadata": {
        "id": "Hvhj3_-uZtXV"
      },
      "execution_count": 108,
      "outputs": []
    },
    {
      "cell_type": "code",
      "source": [
        "previsoes_dtr_cv_teste = modelo_dtc_cv.transform(teste)"
      ],
      "metadata": {
        "id": "w76nW0rAZvaq"
      },
      "execution_count": 109,
      "outputs": []
    },
    {
      "cell_type": "code",
      "source": [
        "print('Árvore de Decisão')\n",
        "print(\"=\"*30)\n",
        "print(\"Sem Cross Validation\")\n",
        "print(\"=\"*30)\n",
        "print(\"R²: %f\" % evaluator.evaluate(previsoes_dtr_teste, {evaluator.metricName: \"r2\"}))\n",
        "print(\"RMSE: %f\" % evaluator.evaluate(previsoes_dtr_teste, {evaluator.metricName: \"rmse\"}))\n",
        "print(\"\")\n",
        "print(\"=\"*30)\n",
        "print(\"Com Cross Validation\")\n",
        "print(\"=\"*30)\n",
        "print(\"R²: %f\" % evaluator.evaluate(previsoes_dtr_cv_teste, {evaluator.metricName: \"r2\"}))\n",
        "print(\"RMSE: %f\" % evaluator.evaluate(previsoes_dtr_cv_teste, {evaluator.metricName: \"rmse\"}))"
      ],
      "metadata": {
        "colab": {
          "base_uri": "https://localhost:8080/"
        },
        "id": "rM1ga9rqZxvQ",
        "outputId": "e367da9a-fec4-450c-befa-e7f99b2fad71"
      },
      "execution_count": 110,
      "outputs": [
        {
          "output_type": "stream",
          "name": "stdout",
          "text": [
            "Árvore de Decisão\n",
            "==============================\n",
            "Sem Cross Validation\n",
            "==============================\n",
            "R²: 0.764577\n",
            "RMSE: 709129.988889\n",
            "\n",
            "==============================\n",
            "Com Cross Validation\n",
            "==============================\n",
            "R²: 0.768476\n",
            "RMSE: 703232.749922\n"
          ]
        }
      ]
    },
    {
      "cell_type": "markdown",
      "source": [
        "Random Forest com Cross Validation\n",
        "\n"
      ],
      "metadata": {
        "id": "h247HNYyZ0U6"
      }
    },
    {
      "cell_type": "code",
      "source": [
        "from pyspark.ml.regression import RandomForestRegressor\n",
        "rfr = RandomForestRegressor()"
      ],
      "metadata": {
        "id": "5ocjS6poZ5Z5"
      },
      "execution_count": 111,
      "outputs": []
    },
    {
      "cell_type": "code",
      "source": [
        "grid = ParamGridBuilder() \\\n",
        "    .addGrid(rfr.numTrees, [10, 30]) \\\n",
        "    .addGrid(rfr.maxDepth, [5, 10]) \\\n",
        "    .addGrid(rfr.maxBins, [10, 45]) \\\n",
        "    .build() # 8 Combinações de hiperparametros"
      ],
      "metadata": {
        "id": "qge6jYa5aAuL"
      },
      "execution_count": 112,
      "outputs": []
    },
    {
      "cell_type": "code",
      "source": [
        "evaluator = RegressionEvaluator()\n",
        "rfr_cv = CrossValidator(\n",
        "    estimator=rfr,\n",
        "    estimatorParamMaps=grid,\n",
        "    evaluator=evaluator,\n",
        "    numFolds=3\n",
        ")"
      ],
      "metadata": {
        "id": "HRkPCGQyaCPs"
      },
      "execution_count": 113,
      "outputs": []
    },
    {
      "cell_type": "code",
      "source": [
        "modelo_rfr_cv = rfr_cv.fit(treino)"
      ],
      "metadata": {
        "id": "iRXZnl3yaEmd"
      },
      "execution_count": 114,
      "outputs": []
    },
    {
      "cell_type": "code",
      "source": [
        "previsoes_rfr_cv_teste = modelo_rfr_cv.transform(teste)"
      ],
      "metadata": {
        "id": "v9N2Pb17aGNz"
      },
      "execution_count": 115,
      "outputs": []
    },
    {
      "cell_type": "code",
      "source": [
        "print('Random Forest')\n",
        "print(\"=\"*30)\n",
        "print(\"Sem Cross Validation\")\n",
        "print(\"=\"*30)\n",
        "print(\"R²: %f\" % evaluator.evaluate(previsoes_rfr_teste, {evaluator.metricName: \"r2\"}))\n",
        "print(\"RMSE: %f\" % evaluator.evaluate(previsoes_rfr_teste, {evaluator.metricName: \"rmse\"}))\n",
        "print(\"\")\n",
        "print(\"=\"*30)\n",
        "print(\"Com Cross Validation\")\n",
        "print(\"=\"*30)\n",
        "print(\"R²: %f\" % evaluator.evaluate(previsoes_rfr_cv_teste, {evaluator.metricName: \"r2\"}))\n",
        "print(\"RMSE: %f\" % evaluator.evaluate(previsoes_rfr_cv_teste, {evaluator.metricName: \"rmse\"}))"
      ],
      "metadata": {
        "colab": {
          "base_uri": "https://localhost:8080/"
        },
        "id": "nUaESYvWaI6P",
        "outputId": "457b6644-8fd2-4a8e-f865-02b420c8e8a3"
      },
      "execution_count": 116,
      "outputs": [
        {
          "output_type": "stream",
          "name": "stdout",
          "text": [
            "Random Forest\n",
            "==============================\n",
            "Sem Cross Validation\n",
            "==============================\n",
            "R²: 0.795665\n",
            "RMSE: 660651.766366\n",
            "\n",
            "==============================\n",
            "Com Cross Validation\n",
            "==============================\n",
            "R²: 0.824596\n",
            "RMSE: 612097.601342\n"
          ]
        }
      ]
    },
    {
      "cell_type": "markdown",
      "source": [
        "Gradient-boosted Tree"
      ],
      "metadata": {
        "id": "8F1ccWpHkNG9"
      }
    },
    {
      "cell_type": "code",
      "source": [
        "gbtr = GBTRegressor()"
      ],
      "metadata": {
        "id": "p4Wael-PkN9M"
      },
      "execution_count": 136,
      "outputs": []
    },
    {
      "cell_type": "code",
      "source": [
        "grid = ParamGridBuilder()\\\n",
        "    .addGrid(gbtr.maxDepth, [5, 10])\\\n",
        "    .addGrid(gbtr.maxBins, [20, 32, 45])\\\n",
        "    .addGrid(gbtr.lossType, ['squared', 'absolute'])\\\n",
        "    .build()"
      ],
      "metadata": {
        "id": "CQUPYy8MkR8A"
      },
      "execution_count": 137,
      "outputs": []
    },
    {
      "cell_type": "code",
      "source": [
        "gbtr_cv = CrossValidator(\n",
        "    estimator = gbtr,\n",
        "    estimatorParamMaps=grid,\n",
        "    evaluator=evaluator,\n",
        "    numFolds=3,\n",
        "    seed=101\n",
        ")"
      ],
      "metadata": {
        "id": "flj3Ilg-kR32"
      },
      "execution_count": 138,
      "outputs": []
    },
    {
      "cell_type": "code",
      "source": [
        "modelo_gbtr_cv = gbtr_cv.fit(treino)"
      ],
      "metadata": {
        "id": "9UrcE7mlkRz5"
      },
      "execution_count": 139,
      "outputs": []
    },
    {
      "cell_type": "code",
      "source": [
        "previsoes_gbtr_cv_treino = modelo_gbtr_cv.transform(treino)"
      ],
      "metadata": {
        "id": "sUgWjT6vkRsw"
      },
      "execution_count": 140,
      "outputs": []
    },
    {
      "cell_type": "code",
      "source": [
        "previsoes_gbtr_cv_teste = modelo_gbtr_cv.transform(teste)"
      ],
      "metadata": {
        "id": "aICC33P0kRk8"
      },
      "execution_count": 141,
      "outputs": []
    },
    {
      "cell_type": "code",
      "source": [
        "print('Random Forest')\n",
        "print(\"=\"*30)\n",
        "print(\"Sem Cross Validation\")\n",
        "print(\"=\"*30)\n",
        "print(\"R²: %f\" % evaluator.evaluate(previsoes_gbtr_teste, {evaluator.metricName: \"r2\"}))\n",
        "print(\"RMSE: %f\" % evaluator.evaluate(previsoes_gbtr_teste, {evaluator.metricName: \"rmse\"}))\n",
        "print(\"\")\n",
        "print(\"=\"*30)\n",
        "print(\"Com Cross Validation\")\n",
        "print(\"=\"*30)\n",
        "print(\"R²: %f\" % evaluator.evaluate(previsoes_gbtr_cv_treino, {evaluator.metricName: \"r2\"}))\n",
        "print(\"RMSE: %f\" % evaluator.evaluate(previsoes_gbtr_cv_treino, {evaluator.metricName: \"rmse\"}))"
      ],
      "metadata": {
        "colab": {
          "base_uri": "https://localhost:8080/"
        },
        "id": "zQznlFjZkr8R",
        "outputId": "4e364fea-2b11-47cb-89bc-7b439b4b3fdc"
      },
      "execution_count": 154,
      "outputs": [
        {
          "output_type": "stream",
          "name": "stdout",
          "text": [
            "Random Forest\n",
            "==============================\n",
            "Sem Cross Validation\n",
            "==============================\n",
            "R²: 0.802866\n",
            "RMSE: 648907.070119\n",
            "\n",
            "==============================\n",
            "Com Cross Validation\n",
            "==============================\n",
            "R²: 0.828047\n",
            "RMSE: 612084.766324\n"
          ]
        }
      ]
    },
    {
      "cell_type": "markdown",
      "source": [
        "# Tabela de Comparação dos Modelos"
      ],
      "metadata": {
        "id": "yxatVcSkaORa"
      }
    },
    {
      "cell_type": "markdown",
      "source": [
        "Para comparar o resultado dos modelos no final, será construido um DataFrame no pandas"
      ],
      "metadata": {
        "id": "rn-7-33paPkn"
      }
    },
    {
      "cell_type": "code",
      "source": [
        "\n",
        "modelos_resultado = {\n",
        "    'modelo': [],\n",
        "    'particao': [],\n",
        "    'crossvalidation': [],\n",
        "    'r2': [],\n",
        "    'rmse': []\n",
        "}"
      ],
      "metadata": {
        "id": "XfxyM_9aaSsh"
      },
      "execution_count": 117,
      "outputs": []
    },
    {
      "cell_type": "code",
      "source": [
        "def adiciona_resultado(*args):\n",
        "    for valor, resultado in zip(modelos_resultado.values(), args):\n",
        "        valor.append(resultado)"
      ],
      "metadata": {
        "id": "a02w8OdJaYk9"
      },
      "execution_count": 118,
      "outputs": []
    },
    {
      "cell_type": "code",
      "source": [
        "modelos_resultado"
      ],
      "metadata": {
        "colab": {
          "base_uri": "https://localhost:8080/"
        },
        "id": "i4ukLoAFaahK",
        "outputId": "d319619e-9dcd-4f0a-9e31-b51c0b6ba2fa"
      },
      "execution_count": 119,
      "outputs": [
        {
          "output_type": "execute_result",
          "data": {
            "text/plain": [
              "{'modelo': [], 'particao': [], 'crossvalidation': [], 'r2': [], 'rmse': []}"
            ]
          },
          "metadata": {},
          "execution_count": 119
        }
      ]
    },
    {
      "cell_type": "code",
      "source": [
        "\n",
        "# Adicionando resultados de regressão linear no dicionário\n",
        "adiciona_resultado('linear_regression', 'treino', False, resumo_treino.r2, resumo_treino.rootMeanSquaredError)\n",
        "adiciona_resultado('linear_regression', 'teste', False, resumo_teste.r2, resumo_teste.rootMeanSquaredError)"
      ],
      "metadata": {
        "id": "RwZLjHE-aukS"
      },
      "execution_count": 121,
      "outputs": []
    },
    {
      "cell_type": "code",
      "source": [
        "# Adicionando resultados de arvore de decisao no dicionário\n",
        "adiciona_resultado('decision_tree', 'treino', False, evaluator.evaluate(previsoes_dtr_treino, {evaluator.metricName : 'r2'}), \n",
        "                   evaluator.evaluate(previsoes_dtr_treino, {evaluator.metricName : 'rmse'}))\n",
        "adiciona_resultado('decision_tree', 'teste', False, evaluator.evaluate(previsoes_dtr_teste, {evaluator.metricName : 'r2'}), \n",
        "                   evaluator.evaluate(previsoes_dtr_teste, {evaluator.metricName : 'rmse'}))"
      ],
      "metadata": {
        "id": "QR3F1hx7bDTk"
      },
      "execution_count": 122,
      "outputs": []
    },
    {
      "cell_type": "code",
      "source": [
        "# Adicionando resultados de random forest no dicionário\n",
        "adiciona_resultado('random_forest', 'treino', False, evaluator.evaluate(previsoes_rfr_treino, {evaluator.metricName : 'r2'}), \n",
        "                   evaluator.evaluate(previsoes_rfr_treino, {evaluator.metricName : 'rmse'}))\n",
        "adiciona_resultado('random_forest', 'teste', False, evaluator.evaluate(previsoes_rfr_teste, {evaluator.metricName : 'r2'}), \n",
        "                   evaluator.evaluate(previsoes_rfr_teste, {evaluator.metricName : 'rmse'}))"
      ],
      "metadata": {
        "id": "L_w9G4uvbTW3"
      },
      "execution_count": 124,
      "outputs": []
    },
    {
      "cell_type": "code",
      "source": [
        "# Adicionando resultados de GBT no dicionário\n",
        "adiciona_resultado('GBT', 'treino', False, evaluator.evaluate(previsoes_gbtr_treino, {evaluator.metricName : 'r2'}), \n",
        "                   evaluator.evaluate(previsoes_gbtr_treino, {evaluator.metricName : 'rmse'}))\n",
        "adiciona_resultado('GBT', 'teste', False, evaluator.evaluate(previsoes_gbtr_teste, {evaluator.metricName : 'r2'}), \n",
        "                   evaluator.evaluate(previsoes_gbtr_teste, {evaluator.metricName : 'rmse'}))"
      ],
      "metadata": {
        "id": "16RFLsoabb03"
      },
      "execution_count": 125,
      "outputs": []
    },
    {
      "cell_type": "code",
      "source": [
        "# Adicionando resultados  de regressao linear com cross validation no dicionário\n",
        "adiciona_resultado('linear_regression', 'treino', True, evaluator.evaluate(previsoes_lr_cv_treino, {evaluator.metricName : 'r2'}), \n",
        "                   evaluator.evaluate(previsoes_lr_cv_treino, {evaluator.metricName : 'rmse'}))\n",
        "adiciona_resultado('linear_regression', 'teste', True, evaluator.evaluate(previsoes_lr_cv_teste, {evaluator.metricName : 'r2'}), \n",
        "                   evaluator.evaluate(previsoes_lr_cv_teste, {evaluator.metricName : 'rmse'}))"
      ],
      "metadata": {
        "id": "UhLl-GftbjqE"
      },
      "execution_count": 134,
      "outputs": []
    },
    {
      "cell_type": "code",
      "source": [
        "# Adicionando resultados de arvore de decisao com cross validation no dicionário\n",
        "adiciona_resultado('decision_tree', 'treino', True, evaluator.evaluate(previsoes_dtr_treino, {evaluator.metricName : 'r2'}), \n",
        "                   evaluator.evaluate(previsoes_rfr_teste, {evaluator.metricName : 'rmse'}))\n",
        "adiciona_resultado('decision_tree', 'teste', True, evaluator.evaluate(previsoes_dtr_cv_teste, {evaluator.metricName : 'r2'}), \n",
        "                   evaluator.evaluate(previsoes_rfr_cv_teste, {evaluator.metricName : 'rmse'}))"
      ],
      "metadata": {
        "id": "IUGAdvEEjHj0"
      },
      "execution_count": 135,
      "outputs": []
    },
    {
      "cell_type": "code",
      "source": [
        "# Adicionando resultados no dicionário\n",
        "adiciona_resultado('random_forest', 'treino', True, evaluator.evaluate(previsoes_rfr_teste, {evaluator.metricName : 'r2'}), \n",
        "                   evaluator.evaluate(previsoes_rfr_teste, {evaluator.metricName : 'rmse'}))\n",
        "adiciona_resultado('random_forest', 'teste', True, evaluator.evaluate(previsoes_rfr_cv_teste, {evaluator.metricName : 'r2'}), \n",
        "                   evaluator.evaluate(previsoes_rfr_cv_teste, {evaluator.metricName : 'rmse'}))"
      ],
      "metadata": {
        "id": "FP-ZoBti1aGP"
      },
      "execution_count": 155,
      "outputs": []
    },
    {
      "cell_type": "code",
      "source": [
        "# Adicionando resultados no dicionário\n",
        "adiciona_resultado('GBT', 'treino', True, evaluator.evaluate(previsoes_gbtr_cv_treino, {evaluator.metricName : 'r2'}), \n",
        "                   evaluator.evaluate(previsoes_gbtr_cv_treino, {evaluator.metricName : 'rmse'}))\n",
        "adiciona_resultado('GBT', 'teste', True, evaluator.evaluate(previsoes_gbtr_cv_teste, {evaluator.metricName : 'r2'}), \n",
        "                   evaluator.evaluate(previsoes_gbtr_cv_teste, {evaluator.metricName : 'rmse'}))"
      ],
      "metadata": {
        "id": "OGI4DxW2jmJH"
      },
      "execution_count": 143,
      "outputs": []
    },
    {
      "cell_type": "markdown",
      "source": [
        "Comparando Modelos"
      ],
      "metadata": {
        "id": "r6grHBitztvS"
      }
    },
    {
      "cell_type": "code",
      "source": [
        "# Criando DataFrame com o dicionário contendo os resultados dos modelos\n",
        "df_resultado = pd.DataFrame(modelos_resultado)"
      ],
      "metadata": {
        "id": "EoOF7OiVzz8F"
      },
      "execution_count": 156,
      "outputs": []
    },
    {
      "cell_type": "code",
      "source": [
        "# visualizando o DataFrame\n",
        "df_resultado"
      ],
      "metadata": {
        "colab": {
          "base_uri": "https://localhost:8080/",
          "height": 613
        },
        "id": "SUaancDEz3f8",
        "outputId": "28086360-3296-430d-f7a3-7bc73534b1d5"
      },
      "execution_count": 157,
      "outputs": [
        {
          "output_type": "execute_result",
          "data": {
            "text/plain": [
              "               modelo particao  crossvalidation        r2           rmse\n",
              "0   linear_regression   treino            False  0.664707  854711.265738\n",
              "1   linear_regression    teste            False  0.667508  842737.204549\n",
              "2       decision_tree   treino            False  0.801438  657742.193410\n",
              "3       decision_tree    teste            False  0.764577  709129.988889\n",
              "4       random_forest   treino            False  0.813013  638282.946321\n",
              "5       random_forest    teste            False  0.795665  660651.766366\n",
              "6       random_forest   treino            False  0.813013  638282.946321\n",
              "7       random_forest    teste            False  0.795665  660651.766366\n",
              "8                 GBT   treino            False  0.875065  521734.451125\n",
              "9                 GBT    teste            False  0.802866  648907.070119\n",
              "10  linear_regression   treino             True  0.664707  854711.265738\n",
              "11  linear_regression    teste             True  0.667508  842737.204549\n",
              "12      decision_tree   treino             True  0.801438  660651.766366\n",
              "13      decision_tree    teste             True  0.768476  612097.601342\n",
              "14                GBT   treino             True  0.828047  612084.766324\n",
              "15                GBT    teste             True  0.797591  657530.728228\n",
              "16      random_forest   treino             True  0.795665  660651.766366\n",
              "17      random_forest    teste             True  0.824596  612097.601342"
            ],
            "text/html": [
              "\n",
              "  <div id=\"df-67d163a8-94ed-485e-90aa-3a5f2af5bb0b\">\n",
              "    <div class=\"colab-df-container\">\n",
              "      <div>\n",
              "<style scoped>\n",
              "    .dataframe tbody tr th:only-of-type {\n",
              "        vertical-align: middle;\n",
              "    }\n",
              "\n",
              "    .dataframe tbody tr th {\n",
              "        vertical-align: top;\n",
              "    }\n",
              "\n",
              "    .dataframe thead th {\n",
              "        text-align: right;\n",
              "    }\n",
              "</style>\n",
              "<table border=\"1\" class=\"dataframe\">\n",
              "  <thead>\n",
              "    <tr style=\"text-align: right;\">\n",
              "      <th></th>\n",
              "      <th>modelo</th>\n",
              "      <th>particao</th>\n",
              "      <th>crossvalidation</th>\n",
              "      <th>r2</th>\n",
              "      <th>rmse</th>\n",
              "    </tr>\n",
              "  </thead>\n",
              "  <tbody>\n",
              "    <tr>\n",
              "      <th>0</th>\n",
              "      <td>linear_regression</td>\n",
              "      <td>treino</td>\n",
              "      <td>False</td>\n",
              "      <td>0.664707</td>\n",
              "      <td>854711.265738</td>\n",
              "    </tr>\n",
              "    <tr>\n",
              "      <th>1</th>\n",
              "      <td>linear_regression</td>\n",
              "      <td>teste</td>\n",
              "      <td>False</td>\n",
              "      <td>0.667508</td>\n",
              "      <td>842737.204549</td>\n",
              "    </tr>\n",
              "    <tr>\n",
              "      <th>2</th>\n",
              "      <td>decision_tree</td>\n",
              "      <td>treino</td>\n",
              "      <td>False</td>\n",
              "      <td>0.801438</td>\n",
              "      <td>657742.193410</td>\n",
              "    </tr>\n",
              "    <tr>\n",
              "      <th>3</th>\n",
              "      <td>decision_tree</td>\n",
              "      <td>teste</td>\n",
              "      <td>False</td>\n",
              "      <td>0.764577</td>\n",
              "      <td>709129.988889</td>\n",
              "    </tr>\n",
              "    <tr>\n",
              "      <th>4</th>\n",
              "      <td>random_forest</td>\n",
              "      <td>treino</td>\n",
              "      <td>False</td>\n",
              "      <td>0.813013</td>\n",
              "      <td>638282.946321</td>\n",
              "    </tr>\n",
              "    <tr>\n",
              "      <th>5</th>\n",
              "      <td>random_forest</td>\n",
              "      <td>teste</td>\n",
              "      <td>False</td>\n",
              "      <td>0.795665</td>\n",
              "      <td>660651.766366</td>\n",
              "    </tr>\n",
              "    <tr>\n",
              "      <th>6</th>\n",
              "      <td>random_forest</td>\n",
              "      <td>treino</td>\n",
              "      <td>False</td>\n",
              "      <td>0.813013</td>\n",
              "      <td>638282.946321</td>\n",
              "    </tr>\n",
              "    <tr>\n",
              "      <th>7</th>\n",
              "      <td>random_forest</td>\n",
              "      <td>teste</td>\n",
              "      <td>False</td>\n",
              "      <td>0.795665</td>\n",
              "      <td>660651.766366</td>\n",
              "    </tr>\n",
              "    <tr>\n",
              "      <th>8</th>\n",
              "      <td>GBT</td>\n",
              "      <td>treino</td>\n",
              "      <td>False</td>\n",
              "      <td>0.875065</td>\n",
              "      <td>521734.451125</td>\n",
              "    </tr>\n",
              "    <tr>\n",
              "      <th>9</th>\n",
              "      <td>GBT</td>\n",
              "      <td>teste</td>\n",
              "      <td>False</td>\n",
              "      <td>0.802866</td>\n",
              "      <td>648907.070119</td>\n",
              "    </tr>\n",
              "    <tr>\n",
              "      <th>10</th>\n",
              "      <td>linear_regression</td>\n",
              "      <td>treino</td>\n",
              "      <td>True</td>\n",
              "      <td>0.664707</td>\n",
              "      <td>854711.265738</td>\n",
              "    </tr>\n",
              "    <tr>\n",
              "      <th>11</th>\n",
              "      <td>linear_regression</td>\n",
              "      <td>teste</td>\n",
              "      <td>True</td>\n",
              "      <td>0.667508</td>\n",
              "      <td>842737.204549</td>\n",
              "    </tr>\n",
              "    <tr>\n",
              "      <th>12</th>\n",
              "      <td>decision_tree</td>\n",
              "      <td>treino</td>\n",
              "      <td>True</td>\n",
              "      <td>0.801438</td>\n",
              "      <td>660651.766366</td>\n",
              "    </tr>\n",
              "    <tr>\n",
              "      <th>13</th>\n",
              "      <td>decision_tree</td>\n",
              "      <td>teste</td>\n",
              "      <td>True</td>\n",
              "      <td>0.768476</td>\n",
              "      <td>612097.601342</td>\n",
              "    </tr>\n",
              "    <tr>\n",
              "      <th>14</th>\n",
              "      <td>GBT</td>\n",
              "      <td>treino</td>\n",
              "      <td>True</td>\n",
              "      <td>0.828047</td>\n",
              "      <td>612084.766324</td>\n",
              "    </tr>\n",
              "    <tr>\n",
              "      <th>15</th>\n",
              "      <td>GBT</td>\n",
              "      <td>teste</td>\n",
              "      <td>True</td>\n",
              "      <td>0.797591</td>\n",
              "      <td>657530.728228</td>\n",
              "    </tr>\n",
              "    <tr>\n",
              "      <th>16</th>\n",
              "      <td>random_forest</td>\n",
              "      <td>treino</td>\n",
              "      <td>True</td>\n",
              "      <td>0.795665</td>\n",
              "      <td>660651.766366</td>\n",
              "    </tr>\n",
              "    <tr>\n",
              "      <th>17</th>\n",
              "      <td>random_forest</td>\n",
              "      <td>teste</td>\n",
              "      <td>True</td>\n",
              "      <td>0.824596</td>\n",
              "      <td>612097.601342</td>\n",
              "    </tr>\n",
              "  </tbody>\n",
              "</table>\n",
              "</div>\n",
              "      <button class=\"colab-df-convert\" onclick=\"convertToInteractive('df-67d163a8-94ed-485e-90aa-3a5f2af5bb0b')\"\n",
              "              title=\"Convert this dataframe to an interactive table.\"\n",
              "              style=\"display:none;\">\n",
              "        \n",
              "  <svg xmlns=\"http://www.w3.org/2000/svg\" height=\"24px\"viewBox=\"0 0 24 24\"\n",
              "       width=\"24px\">\n",
              "    <path d=\"M0 0h24v24H0V0z\" fill=\"none\"/>\n",
              "    <path d=\"M18.56 5.44l.94 2.06.94-2.06 2.06-.94-2.06-.94-.94-2.06-.94 2.06-2.06.94zm-11 1L8.5 8.5l.94-2.06 2.06-.94-2.06-.94L8.5 2.5l-.94 2.06-2.06.94zm10 10l.94 2.06.94-2.06 2.06-.94-2.06-.94-.94-2.06-.94 2.06-2.06.94z\"/><path d=\"M17.41 7.96l-1.37-1.37c-.4-.4-.92-.59-1.43-.59-.52 0-1.04.2-1.43.59L10.3 9.45l-7.72 7.72c-.78.78-.78 2.05 0 2.83L4 21.41c.39.39.9.59 1.41.59.51 0 1.02-.2 1.41-.59l7.78-7.78 2.81-2.81c.8-.78.8-2.07 0-2.86zM5.41 20L4 18.59l7.72-7.72 1.47 1.35L5.41 20z\"/>\n",
              "  </svg>\n",
              "      </button>\n",
              "      \n",
              "  <style>\n",
              "    .colab-df-container {\n",
              "      display:flex;\n",
              "      flex-wrap:wrap;\n",
              "      gap: 12px;\n",
              "    }\n",
              "\n",
              "    .colab-df-convert {\n",
              "      background-color: #E8F0FE;\n",
              "      border: none;\n",
              "      border-radius: 50%;\n",
              "      cursor: pointer;\n",
              "      display: none;\n",
              "      fill: #1967D2;\n",
              "      height: 32px;\n",
              "      padding: 0 0 0 0;\n",
              "      width: 32px;\n",
              "    }\n",
              "\n",
              "    .colab-df-convert:hover {\n",
              "      background-color: #E2EBFA;\n",
              "      box-shadow: 0px 1px 2px rgba(60, 64, 67, 0.3), 0px 1px 3px 1px rgba(60, 64, 67, 0.15);\n",
              "      fill: #174EA6;\n",
              "    }\n",
              "\n",
              "    [theme=dark] .colab-df-convert {\n",
              "      background-color: #3B4455;\n",
              "      fill: #D2E3FC;\n",
              "    }\n",
              "\n",
              "    [theme=dark] .colab-df-convert:hover {\n",
              "      background-color: #434B5C;\n",
              "      box-shadow: 0px 1px 3px 1px rgba(0, 0, 0, 0.15);\n",
              "      filter: drop-shadow(0px 1px 2px rgba(0, 0, 0, 0.3));\n",
              "      fill: #FFFFFF;\n",
              "    }\n",
              "  </style>\n",
              "\n",
              "      <script>\n",
              "        const buttonEl =\n",
              "          document.querySelector('#df-67d163a8-94ed-485e-90aa-3a5f2af5bb0b button.colab-df-convert');\n",
              "        buttonEl.style.display =\n",
              "          google.colab.kernel.accessAllowed ? 'block' : 'none';\n",
              "\n",
              "        async function convertToInteractive(key) {\n",
              "          const element = document.querySelector('#df-67d163a8-94ed-485e-90aa-3a5f2af5bb0b');\n",
              "          const dataTable =\n",
              "            await google.colab.kernel.invokeFunction('convertToInteractive',\n",
              "                                                     [key], {});\n",
              "          if (!dataTable) return;\n",
              "\n",
              "          const docLinkHtml = 'Like what you see? Visit the ' +\n",
              "            '<a target=\"_blank\" href=https://colab.research.google.com/notebooks/data_table.ipynb>data table notebook</a>'\n",
              "            + ' to learn more about interactive tables.';\n",
              "          element.innerHTML = '';\n",
              "          dataTable['output_type'] = 'display_data';\n",
              "          await google.colab.output.renderOutput(dataTable, element);\n",
              "          const docLink = document.createElement('div');\n",
              "          docLink.innerHTML = docLinkHtml;\n",
              "          element.appendChild(docLink);\n",
              "        }\n",
              "      </script>\n",
              "    </div>\n",
              "  </div>\n",
              "  "
            ]
          },
          "metadata": {},
          "execution_count": 157
        }
      ]
    },
    {
      "cell_type": "code",
      "source": [
        "# Multiplicando o r2 por 100 para transformá-lo em %\n",
        "df_resultado['r2'] = df_resultado['r2'] * 100"
      ],
      "metadata": {
        "id": "uLbKmPQK0OfI"
      },
      "execution_count": 158,
      "outputs": []
    },
    {
      "cell_type": "code",
      "source": [
        "# Definindo paleta de cores padrão do seaborn\n",
        "sns.set()"
      ],
      "metadata": {
        "id": "FG3aVLSV0Qta"
      },
      "execution_count": 159,
      "outputs": []
    },
    {
      "cell_type": "code",
      "source": [
        "# Criando um DataFrame para plotagem\n",
        "df_plot = df_resultado.groupby('modelo')\\\n",
        "    .mean()\\\n",
        "    .reset_index()\\\n",
        "    .sort_values(by='r2')"
      ],
      "metadata": {
        "id": "bPdS8sXs0Suf"
      },
      "execution_count": 160,
      "outputs": []
    },
    {
      "cell_type": "code",
      "source": [
        "# Criando gráfico de barras com desempenho de cada modelo na métrica r2\n",
        "plt.figure(figsize=(12, 8))\n",
        "ax = sns.barplot(data=df_plot, x='modelo', y='r2')"
      ],
      "metadata": {
        "colab": {
          "base_uri": "https://localhost:8080/",
          "height": 503
        },
        "id": "uvEyFiQy0UsF",
        "outputId": "6bc7ea21-7ad8-4033-a354-16d4703e94ad"
      },
      "execution_count": 161,
      "outputs": [
        {
          "output_type": "display_data",
          "data": {
            "text/plain": [
              "<Figure size 864x576 with 1 Axes>"
            ],
            "image/png": "[encoded data removed]"
          },
          "metadata": {}
        }
      ]
    },
    {
      "cell_type": "code",
      "source": [
        "\n",
        "# Criando gráfico de barras com desempenho de cada modelo na métrica rmse\n",
        "plt.figure(figsize=(12, 8))\n",
        "ax = sns.barplot(data=df_plot, x='modelo', y='rmse')"
      ],
      "metadata": {
        "colab": {
          "base_uri": "https://localhost:8080/",
          "height": 503
        },
        "id": "p9Wc05wF0XmC",
        "outputId": "9d3f5c25-3224-40f2-e9c8-c6fc437e17de"
      },
      "execution_count": 162,
      "outputs": [
        {
          "output_type": "display_data",
          "data": {
            "text/plain": [
              "<Figure size 864x576 with 1 Axes>"
            ],
            "image/png": "[encoded data removed]"
          },
          "metadata": {}
        }
      ]
    },
    {
      "cell_type": "code",
      "source": [
        "# Gráfico separado entre métricas retiradas de modelos com crossvalidation e sem\n",
        "plt.figure(figsize=(12, 8))\n",
        "sns.barplot(data=df_resultado, x='modelo', y='r2', hue='crossvalidation')"
      ],
      "metadata": {
        "colab": {
          "base_uri": "https://localhost:8080/",
          "height": 521
        },
        "id": "KBQKAkc_0a3j",
        "outputId": "e91e2da7-835d-4adf-afa4-a2808f79dcec"
      },
      "execution_count": 163,
      "outputs": [
        {
          "output_type": "execute_result",
          "data": {
            "text/plain": [
              "<matplotlib.axes._subplots.AxesSubplot at 0x7f8ad155cfd0>"
            ]
          },
          "metadata": {},
          "execution_count": 163
        },
        {
          "output_type": "display_data",
          "data": {
            "text/plain": [
              "<Figure size 864x576 with 1 Axes>"
            ],
            "image/png": "[encoded data removed]"
          },
          "metadata": {}
        }
      ]
    }
  ]
}